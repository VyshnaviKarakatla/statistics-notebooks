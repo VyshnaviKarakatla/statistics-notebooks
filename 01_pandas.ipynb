{
 "cells": [
  {
   "cell_type": "code",
   "execution_count": 1,
   "id": "370dc574-4a0b-4858-b094-2363ab1242da",
   "metadata": {},
   "outputs": [],
   "source": [
    "import pandas as pd"
   ]
  },
  {
   "cell_type": "code",
   "execution_count": 2,
   "id": "4724f5c6-792f-4e8d-ad50-12229445bc0c",
   "metadata": {},
   "outputs": [
    {
     "name": "stdout",
     "output_type": "stream",
     "text": [
      "Series with numbers\n",
      "0    10\n",
      "1    20\n",
      "2    30\n",
      "3    40\n",
      "4    50\n",
      "dtype: int64\n"
     ]
    }
   ],
   "source": [
    "print('Series with numbers')\n",
    "ser1=pd.Series([10,20,30,40,50])\n",
    "print(ser1)"
   ]
  },
  {
   "cell_type": "code",
   "execution_count": 3,
   "id": "93246cb0-fdce-4000-806d-205c2b98aa44",
   "metadata": {},
   "outputs": [
    {
     "name": "stdout",
     "output_type": "stream",
     "text": [
      "Series with strings\n",
      "0    python\n",
      "1       AWS\n",
      "2      java\n",
      "dtype: object\n"
     ]
    }
   ],
   "source": [
    "print('Series with strings')\n",
    "ser2=pd.Series(['python','AWS','java'])\n",
    "print(ser2)"
   ]
  },
  {
   "cell_type": "code",
   "execution_count": 4,
   "id": "4a7ee474-d6e0-4c6e-8233-58e78223dd6d",
   "metadata": {},
   "outputs": [
    {
     "name": "stdout",
     "output_type": "stream",
     "text": [
      "Slicing Series\n",
      "1    20\n",
      "2    30\n",
      "3    40\n",
      "dtype: int64\n",
      "4    50\n",
      "3    40\n",
      "2    30\n",
      "1    20\n",
      "0    10\n",
      "dtype: int64\n",
      "java\n",
      "0    python\n",
      "1       AWS\n",
      "2      java\n",
      "dtype: object\n",
      "0    python\n",
      "1       AWS\n",
      "2      java\n",
      "dtype: object\n",
      "0    python\n",
      "1       AWS\n",
      "dtype: object\n",
      "1     AWS\n",
      "2    java\n",
      "dtype: object\n"
     ]
    }
   ],
   "source": [
    "print(\"Slicing Series\")\n",
    "print(ser1[1:4])\n",
    "print(ser1[::-1])\n",
    "print(ser2.iloc[-1])\n",
    "print(ser2.head())\n",
    "print(ser2.tail())\n",
    "print(ser2.head(2))\n",
    "print(ser2.tail(2))"
   ]
  },
  {
   "cell_type": "code",
   "execution_count": 5,
   "id": "f104d935-754f-4130-8335-1ee6908d251b",
   "metadata": {},
   "outputs": [
    {
     "name": "stdout",
     "output_type": "stream",
     "text": [
      "DataFrames with numbers\n",
      "   0\n",
      "0  1\n",
      "1  2\n",
      "2  3\n",
      "3  4\n",
      "4  5\n"
     ]
    }
   ],
   "source": [
    "print('DataFrames with numbers')\n",
    "df1=pd.DataFrame({1,2,3,4,5})\n",
    "print(df1)"
   ]
  },
  {
   "cell_type": "code",
   "execution_count": 6,
   "id": "2edad07a-383d-4992-8cd0-0263dca7d3e5",
   "metadata": {},
   "outputs": [
    {
     "name": "stdout",
     "output_type": "stream",
     "text": [
      "DataFrames with strings\n",
      "    id  course\n",
      "0  101    java\n",
      "1  102     AWS\n",
      "2  103  python\n",
      "3  104   cloud\n",
      "4  105    html\n",
      "0    101\n",
      "1    102\n",
      "2    103\n",
      "3    104\n",
      "4    105\n",
      "Name: id, dtype: object\n",
      "1    102\n",
      "2    103\n",
      "Name: id, dtype: object\n",
      "0      java\n",
      "1       AWS\n",
      "2    python\n",
      "3     cloud\n",
      "4      html\n",
      "Name: course, dtype: object\n",
      "1       AWS\n",
      "2    python\n",
      "3     cloud\n",
      "Name: course, dtype: object\n"
     ]
    }
   ],
   "source": [
    "print('DataFrames with strings')\n",
    "df2=pd.DataFrame({'id':['101','102','103','104','105'],'course':['java','AWS','python','cloud','html']})\n",
    "print(df2)\n",
    "print(df2['id'])\n",
    "print(df2['id'][1:3])\n",
    "print(df2['course'])\n",
    "print(df2['course'][1:4])"
   ]
  },
  {
   "cell_type": "code",
   "execution_count": 7,
   "id": "d7373f00-5cf7-4655-bf6c-0f49a1a2e186",
   "metadata": {},
   "outputs": [
    {
     "name": "stdout",
     "output_type": "stream",
     "text": [
      "Slicing Series\n",
      "   0\n",
      "1  2\n",
      "2  3\n",
      "   0\n",
      "4  5\n",
      "3  4\n",
      "2  3\n",
      "1  2\n",
      "0  1\n",
      "0    3\n",
      "Name: 2, dtype: int64\n",
      "    id  course\n",
      "0  101    java\n",
      "1  102     AWS\n",
      "2  103  python\n",
      "3  104   cloud\n",
      "4  105    html\n",
      "    id  course\n",
      "0  101    java\n",
      "1  102     AWS\n",
      "2  103  python\n",
      "3  104   cloud\n",
      "4  105    html\n",
      "    id course\n",
      "0  101   java\n",
      "1  102    AWS\n",
      "    id course\n",
      "3  104  cloud\n",
      "4  105   html\n"
     ]
    }
   ],
   "source": [
    "print(\"Slicing Series\")\n",
    "print(df1[1:3])\n",
    "print(df1[::-1])\n",
    "print(df1.iloc[-3])\n",
    "print(df2.head())\n",
    "print(df2.tail())\n",
    "print(df2.head(2))\n",
    "print(df2.tail(2))"
   ]
  },
  {
   "cell_type": "code",
   "execution_count": 8,
   "id": "20b7b81e-6f09-4521-b40e-236016865e84",
   "metadata": {},
   "outputs": [
    {
     "name": "stdout",
     "output_type": "stream",
     "text": [
      "   sid    sname\n",
      "0  101     ramu\n",
      "1  102     ravi\n",
      "2  103    kiran\n",
      "3  104     raju\n",
      "4  105  karthik\n",
      "5  106    kumar\n",
      "6  107     balu\n",
      "7  108    srinu\n",
      "8  109  kishore\n",
      "9  110     john\n",
      "sid       102\n",
      "sname    ravi\n",
      "Name: 1, dtype: object\n",
      "101\n",
      "kumar\n"
     ]
    }
   ],
   "source": [
    "df3=pd.DataFrame({'sid':['101','102','103','104','105','106','107','108','109','110'],\n",
    "      'sname':['ramu','ravi','kiran','raju','karthik','kumar',\n",
    "               'balu','srinu','kishore','john']\n",
    "      })\n",
    "print(df3)\n",
    "print(df3.iloc[1])\n",
    "print(df3.iloc[0,0])\n",
    "print(df3.iloc[5,1])"
   ]
  },
  {
   "cell_type": "code",
   "execution_count": 9,
   "id": "056f289f-df84-4f54-a4b6-5503a448fb28",
   "metadata": {},
   "outputs": [
    {
     "name": "stdout",
     "output_type": "stream",
     "text": [
      "   empno  ename      job\n",
      "0   1001   ravi      dev\n",
      "1   1002   ramu   tester\n",
      "2   1003   raju      dev\n",
      "3   1004   hari   devops\n",
      "4   1005   giri  manager\n",
      "5   1006   suri      dev\n",
      "6   1007  raghu   tester\n",
      "7   1008  kumar      dev\n",
      "tester\n",
      "devops\n",
      "kumar\n",
      "   empno ename      job\n",
      "0   1001  ravi      dev\n",
      "1   1002  ramu   tester\n",
      "2   1003  raju      dev\n",
      "3   1004  hari   devops\n",
      "4   1005  giri  manager\n",
      "   empno  ename      job\n",
      "7   1008  kumar      dev\n",
      "6   1007  raghu   tester\n",
      "5   1006   suri      dev\n",
      "4   1005   giri  manager\n",
      "3   1004   hari   devops\n",
      "2   1003   raju      dev\n",
      "1   1002   ramu   tester\n",
      "0   1001   ravi      dev\n",
      "0    1001\n",
      "1    1002\n",
      "2    1003\n",
      "3    1004\n",
      "4    1005\n",
      "5    1006\n",
      "6    1007\n",
      "7    1008\n",
      "Name: empno, dtype: int64\n",
      "0     ravi\n",
      "1     ramu\n",
      "2     raju\n",
      "3     hari\n",
      "4     giri\n",
      "5     suri\n",
      "6    raghu\n",
      "7    kumar\n",
      "Name: ename, dtype: object\n",
      "0        dev\n",
      "1     tester\n",
      "2        dev\n",
      "3     devops\n",
      "4    manager\n",
      "5        dev\n",
      "6     tester\n",
      "7        dev\n",
      "Name: job, dtype: object\n"
     ]
    }
   ],
   "source": [
    "df4=pd.DataFrame({\n",
    "    'empno':[1001,1002,1003,1004,1005,1006,1007,1008],\n",
    "    'ename':['ravi','ramu','raju','hari','giri','suri','raghu','kumar'],\n",
    "    'job':['dev','tester','dev','devops','manager','dev','tester','dev']\n",
    "})\n",
    "print(df4)\n",
    "print(df4.iloc[1,2])\n",
    "print(df4.iloc[3,2])\n",
    "print(df4.iloc[7,1])\n",
    "print(df4.iloc[0:5])\n",
    "print(df4.iloc[::-1])\n",
    "print(df4.iloc[:,0])#complete record,1st column\n",
    "print(df4.iloc[:,1])\n",
    "print(df4.iloc[:,2])\n"
   ]
  },
  {
   "cell_type": "code",
   "execution_count": 16,
   "id": "dc05262d-68f8-4936-bb61-c8713252c436",
   "metadata": {},
   "outputs": [
    {
     "name": "stdout",
     "output_type": "stream",
     "text": [
      "   empno  ename      job   sal\n",
      "0   1001   ravi      dev  2443\n",
      "1   1002   ramu   tester  7922\n",
      "2   1003   raju      dev  3579\n",
      "3   1004   hari   devops  5793\n",
      "4   1005   giri  manager  7942\n",
      "5   1006   suri      dev  8327\n",
      "6   1007  raghu   tester  5932\n",
      "7   1008  kumar      dev  4792\n",
      "  ename   sal\n",
      "0  ravi  2443\n",
      "1  ramu  7922\n",
      "2  raju  3579\n"
     ]
    },
    {
     "data": {
      "text/plain": [
       "np.int64(2443)"
      ]
     },
     "execution_count": 16,
     "metadata": {},
     "output_type": "execute_result"
    }
   ],
   "source": [
    "df5=pd.DataFrame({\n",
    "    'empno':[1001,1002,1003,1004,1005,1006,1007,1008],\n",
    "    'ename':['ravi','ramu','raju','hari','giri','suri','raghu','kumar'],\n",
    "    'job':['dev','tester','dev','devops','manager','dev','tester','dev'],\n",
    "    'sal':[2443,7922,3579,5793,7942,8327,5932,4792]\n",
    "})\n",
    "print(df5)\n",
    "print(df5.iloc[[0,1,2],[1,3]])\n"
   ]
  },
  {
   "cell_type": "code",
   "execution_count": 18,
   "id": "3ea1a414-a38c-498d-acd8-a67bba0afab6",
   "metadata": {},
   "outputs": [
    {
     "data": {
      "text/plain": [
       "np.int64(7922)"
      ]
     },
     "execution_count": 18,
     "metadata": {},
     "output_type": "execute_result"
    }
   ],
   "source": [
    "df5.loc[1,'sal']"
   ]
  },
  {
   "cell_type": "code",
   "execution_count": 20,
   "id": "82300a14-a392-4afc-b89e-114be2660b2a",
   "metadata": {},
   "outputs": [
    {
     "data": {
      "text/plain": [
       "ename    hari\n",
       "sal      5793\n",
       "Name: 3, dtype: object"
      ]
     },
     "execution_count": 20,
     "metadata": {},
     "output_type": "execute_result"
    }
   ],
   "source": [
    "df5.loc[3,['ename','sal']]"
   ]
  },
  {
   "cell_type": "code",
   "execution_count": 27,
   "id": "62bdf502-537a-49ea-9369-0cadfc820bb7",
   "metadata": {},
   "outputs": [
    {
     "data": {
      "text/html": [
       "<div>\n",
       "<style scoped>\n",
       "    .dataframe tbody tr th:only-of-type {\n",
       "        vertical-align: middle;\n",
       "    }\n",
       "\n",
       "    .dataframe tbody tr th {\n",
       "        vertical-align: top;\n",
       "    }\n",
       "\n",
       "    .dataframe thead th {\n",
       "        text-align: right;\n",
       "    }\n",
       "</style>\n",
       "<table border=\"1\" class=\"dataframe\">\n",
       "  <thead>\n",
       "    <tr style=\"text-align: right;\">\n",
       "      <th></th>\n",
       "      <th>empno</th>\n",
       "      <th>ename</th>\n",
       "      <th>job</th>\n",
       "      <th>sal</th>\n",
       "      <th>deptno</th>\n",
       "    </tr>\n",
       "  </thead>\n",
       "  <tbody>\n",
       "    <tr>\n",
       "      <th>0</th>\n",
       "      <td>1001</td>\n",
       "      <td>ravi</td>\n",
       "      <td>dev</td>\n",
       "      <td>2443</td>\n",
       "      <td>10</td>\n",
       "    </tr>\n",
       "    <tr>\n",
       "      <th>1</th>\n",
       "      <td>1002</td>\n",
       "      <td>ramu</td>\n",
       "      <td>tester</td>\n",
       "      <td>7922</td>\n",
       "      <td>20</td>\n",
       "    </tr>\n",
       "    <tr>\n",
       "      <th>2</th>\n",
       "      <td>1003</td>\n",
       "      <td>raju</td>\n",
       "      <td>dev</td>\n",
       "      <td>3579</td>\n",
       "      <td>30</td>\n",
       "    </tr>\n",
       "    <tr>\n",
       "      <th>3</th>\n",
       "      <td>1004</td>\n",
       "      <td>hari</td>\n",
       "      <td>devops</td>\n",
       "      <td>5793</td>\n",
       "      <td>40</td>\n",
       "    </tr>\n",
       "    <tr>\n",
       "      <th>4</th>\n",
       "      <td>1005</td>\n",
       "      <td>giri</td>\n",
       "      <td>manager</td>\n",
       "      <td>7942</td>\n",
       "      <td>26</td>\n",
       "    </tr>\n",
       "    <tr>\n",
       "      <th>5</th>\n",
       "      <td>1006</td>\n",
       "      <td>suri</td>\n",
       "      <td>dev</td>\n",
       "      <td>8327</td>\n",
       "      <td>47</td>\n",
       "    </tr>\n",
       "    <tr>\n",
       "      <th>6</th>\n",
       "      <td>1007</td>\n",
       "      <td>raghu</td>\n",
       "      <td>tester</td>\n",
       "      <td>5932</td>\n",
       "      <td>89</td>\n",
       "    </tr>\n",
       "    <tr>\n",
       "      <th>7</th>\n",
       "      <td>1008</td>\n",
       "      <td>kumar</td>\n",
       "      <td>dev</td>\n",
       "      <td>4792</td>\n",
       "      <td>46</td>\n",
       "    </tr>\n",
       "  </tbody>\n",
       "</table>\n",
       "</div>"
      ],
      "text/plain": [
       "   empno  ename      job   sal  deptno\n",
       "0   1001   ravi      dev  2443      10\n",
       "1   1002   ramu   tester  7922      20\n",
       "2   1003   raju      dev  3579      30\n",
       "3   1004   hari   devops  5793      40\n",
       "4   1005   giri  manager  7942      26\n",
       "5   1006   suri      dev  8327      47\n",
       "6   1007  raghu   tester  5932      89\n",
       "7   1008  kumar      dev  4792      46"
      ]
     },
     "execution_count": 27,
     "metadata": {},
     "output_type": "execute_result"
    }
   ],
   "source": [
    "df5=pd.DataFrame({\n",
    "    'empno':[1001,1002,1003,1004,1005,1006,1007,1008],\n",
    "    'ename':['ravi','ramu','raju','hari','giri','suri','raghu','kumar'],\n",
    "    'job':['dev','tester','dev','devops','manager','dev','tester','dev'], \n",
    "    'sal':[2443,7922,3579,5793,7942,8327,5932,4792],\n",
    "    'deptno':[10,20,30,40,26,47,89,46]\n",
    "})\n",
    "df5"
   ]
  },
  {
   "cell_type": "code",
   "execution_count": 28,
   "id": "cb96a783-8175-46d1-9fd6-c15224086094",
   "metadata": {},
   "outputs": [
    {
     "data": {
      "text/html": [
       "<div>\n",
       "<style scoped>\n",
       "    .dataframe tbody tr th:only-of-type {\n",
       "        vertical-align: middle;\n",
       "    }\n",
       "\n",
       "    .dataframe tbody tr th {\n",
       "        vertical-align: top;\n",
       "    }\n",
       "\n",
       "    .dataframe thead th {\n",
       "        text-align: right;\n",
       "    }\n",
       "</style>\n",
       "<table border=\"1\" class=\"dataframe\">\n",
       "  <thead>\n",
       "    <tr style=\"text-align: right;\">\n",
       "      <th></th>\n",
       "      <th>empno</th>\n",
       "      <th>ename</th>\n",
       "      <th>job</th>\n",
       "      <th>sal</th>\n",
       "      <th>deptno</th>\n",
       "    </tr>\n",
       "  </thead>\n",
       "  <tbody>\n",
       "    <tr>\n",
       "      <th>7</th>\n",
       "      <td>1008</td>\n",
       "      <td>kumar</td>\n",
       "      <td>dev</td>\n",
       "      <td>4792</td>\n",
       "      <td>46</td>\n",
       "    </tr>\n",
       "    <tr>\n",
       "      <th>6</th>\n",
       "      <td>1007</td>\n",
       "      <td>raghu</td>\n",
       "      <td>tester</td>\n",
       "      <td>5932</td>\n",
       "      <td>89</td>\n",
       "    </tr>\n",
       "    <tr>\n",
       "      <th>5</th>\n",
       "      <td>1006</td>\n",
       "      <td>suri</td>\n",
       "      <td>dev</td>\n",
       "      <td>8327</td>\n",
       "      <td>47</td>\n",
       "    </tr>\n",
       "    <tr>\n",
       "      <th>4</th>\n",
       "      <td>1005</td>\n",
       "      <td>giri</td>\n",
       "      <td>manager</td>\n",
       "      <td>7942</td>\n",
       "      <td>26</td>\n",
       "    </tr>\n",
       "    <tr>\n",
       "      <th>3</th>\n",
       "      <td>1004</td>\n",
       "      <td>hari</td>\n",
       "      <td>devops</td>\n",
       "      <td>5793</td>\n",
       "      <td>40</td>\n",
       "    </tr>\n",
       "    <tr>\n",
       "      <th>2</th>\n",
       "      <td>1003</td>\n",
       "      <td>raju</td>\n",
       "      <td>dev</td>\n",
       "      <td>3579</td>\n",
       "      <td>30</td>\n",
       "    </tr>\n",
       "    <tr>\n",
       "      <th>1</th>\n",
       "      <td>1002</td>\n",
       "      <td>ramu</td>\n",
       "      <td>tester</td>\n",
       "      <td>7922</td>\n",
       "      <td>20</td>\n",
       "    </tr>\n",
       "    <tr>\n",
       "      <th>0</th>\n",
       "      <td>1001</td>\n",
       "      <td>ravi</td>\n",
       "      <td>dev</td>\n",
       "      <td>2443</td>\n",
       "      <td>10</td>\n",
       "    </tr>\n",
       "  </tbody>\n",
       "</table>\n",
       "</div>"
      ],
      "text/plain": [
       "   empno  ename      job   sal  deptno\n",
       "7   1008  kumar      dev  4792      46\n",
       "6   1007  raghu   tester  5932      89\n",
       "5   1006   suri      dev  8327      47\n",
       "4   1005   giri  manager  7942      26\n",
       "3   1004   hari   devops  5793      40\n",
       "2   1003   raju      dev  3579      30\n",
       "1   1002   ramu   tester  7922      20\n",
       "0   1001   ravi      dev  2443      10"
      ]
     },
     "execution_count": 28,
     "metadata": {},
     "output_type": "execute_result"
    }
   ],
   "source": [
    "df5.iloc[::-1]"
   ]
  },
  {
   "cell_type": "code",
   "execution_count": 29,
   "id": "b1d2cb73-724a-4b03-a80c-706e11192c81",
   "metadata": {},
   "outputs": [
    {
     "data": {
      "text/html": [
       "<div>\n",
       "<style scoped>\n",
       "    .dataframe tbody tr th:only-of-type {\n",
       "        vertical-align: middle;\n",
       "    }\n",
       "\n",
       "    .dataframe tbody tr th {\n",
       "        vertical-align: top;\n",
       "    }\n",
       "\n",
       "    .dataframe thead th {\n",
       "        text-align: right;\n",
       "    }\n",
       "</style>\n",
       "<table border=\"1\" class=\"dataframe\">\n",
       "  <thead>\n",
       "    <tr style=\"text-align: right;\">\n",
       "      <th></th>\n",
       "      <th>empno</th>\n",
       "      <th>ename</th>\n",
       "      <th>job</th>\n",
       "      <th>sal</th>\n",
       "      <th>deptno</th>\n",
       "    </tr>\n",
       "  </thead>\n",
       "  <tbody>\n",
       "    <tr>\n",
       "      <th>2</th>\n",
       "      <td>1003</td>\n",
       "      <td>raju</td>\n",
       "      <td>dev</td>\n",
       "      <td>3579</td>\n",
       "      <td>30</td>\n",
       "    </tr>\n",
       "    <tr>\n",
       "      <th>3</th>\n",
       "      <td>1004</td>\n",
       "      <td>hari</td>\n",
       "      <td>devops</td>\n",
       "      <td>5793</td>\n",
       "      <td>40</td>\n",
       "    </tr>\n",
       "    <tr>\n",
       "      <th>4</th>\n",
       "      <td>1005</td>\n",
       "      <td>giri</td>\n",
       "      <td>manager</td>\n",
       "      <td>7942</td>\n",
       "      <td>26</td>\n",
       "    </tr>\n",
       "    <tr>\n",
       "      <th>5</th>\n",
       "      <td>1006</td>\n",
       "      <td>suri</td>\n",
       "      <td>dev</td>\n",
       "      <td>8327</td>\n",
       "      <td>47</td>\n",
       "    </tr>\n",
       "    <tr>\n",
       "      <th>6</th>\n",
       "      <td>1007</td>\n",
       "      <td>raghu</td>\n",
       "      <td>tester</td>\n",
       "      <td>5932</td>\n",
       "      <td>89</td>\n",
       "    </tr>\n",
       "    <tr>\n",
       "      <th>7</th>\n",
       "      <td>1008</td>\n",
       "      <td>kumar</td>\n",
       "      <td>dev</td>\n",
       "      <td>4792</td>\n",
       "      <td>46</td>\n",
       "    </tr>\n",
       "  </tbody>\n",
       "</table>\n",
       "</div>"
      ],
      "text/plain": [
       "   empno  ename      job   sal  deptno\n",
       "2   1003   raju      dev  3579      30\n",
       "3   1004   hari   devops  5793      40\n",
       "4   1005   giri  manager  7942      26\n",
       "5   1006   suri      dev  8327      47\n",
       "6   1007  raghu   tester  5932      89\n",
       "7   1008  kumar      dev  4792      46"
      ]
     },
     "execution_count": 29,
     "metadata": {},
     "output_type": "execute_result"
    }
   ],
   "source": [
    "df5.iloc[2:9]"
   ]
  },
  {
   "cell_type": "code",
   "execution_count": 30,
   "id": "76f10422-2f06-4158-b425-099c22e95f37",
   "metadata": {},
   "outputs": [
    {
     "data": {
      "text/plain": [
       "empno     1003\n",
       "ename     raju\n",
       "job        dev\n",
       "sal       3579\n",
       "deptno      30\n",
       "Name: 2, dtype: object"
      ]
     },
     "execution_count": 30,
     "metadata": {},
     "output_type": "execute_result"
    }
   ],
   "source": [
    "df5.loc[2,]"
   ]
  },
  {
   "cell_type": "code",
   "execution_count": 39,
   "id": "8afa76a7-93a4-4573-abbd-b532b76cdf2b",
   "metadata": {},
   "outputs": [
    {
     "data": {
      "text/html": [
       "<div>\n",
       "<style scoped>\n",
       "    .dataframe tbody tr th:only-of-type {\n",
       "        vertical-align: middle;\n",
       "    }\n",
       "\n",
       "    .dataframe tbody tr th {\n",
       "        vertical-align: top;\n",
       "    }\n",
       "\n",
       "    .dataframe thead th {\n",
       "        text-align: right;\n",
       "    }\n",
       "</style>\n",
       "<table border=\"1\" class=\"dataframe\">\n",
       "  <thead>\n",
       "    <tr style=\"text-align: right;\">\n",
       "      <th></th>\n",
       "      <th>empno</th>\n",
       "      <th>ename</th>\n",
       "      <th>job</th>\n",
       "      <th>sal</th>\n",
       "      <th>deptno</th>\n",
       "    </tr>\n",
       "  </thead>\n",
       "  <tbody>\n",
       "    <tr>\n",
       "      <th>2</th>\n",
       "      <td>1003</td>\n",
       "      <td>raju</td>\n",
       "      <td>dev</td>\n",
       "      <td>3579</td>\n",
       "      <td>30</td>\n",
       "    </tr>\n",
       "  </tbody>\n",
       "</table>\n",
       "</div>"
      ],
      "text/plain": [
       "   empno ename  job   sal  deptno\n",
       "2   1003  raju  dev  3579      30"
      ]
     },
     "execution_count": 39,
     "metadata": {},
     "output_type": "execute_result"
    }
   ],
   "source": [
    "df5.loc[[2],['empno','ename','job','sal','deptno']]"
   ]
  },
  {
   "cell_type": "code",
   "execution_count": 40,
   "id": "f27cb47c-d817-4aee-99e2-c02d70d85786",
   "metadata": {},
   "outputs": [
    {
     "data": {
      "text/html": [
       "<div>\n",
       "<style scoped>\n",
       "    .dataframe tbody tr th:only-of-type {\n",
       "        vertical-align: middle;\n",
       "    }\n",
       "\n",
       "    .dataframe tbody tr th {\n",
       "        vertical-align: top;\n",
       "    }\n",
       "\n",
       "    .dataframe thead th {\n",
       "        text-align: right;\n",
       "    }\n",
       "</style>\n",
       "<table border=\"1\" class=\"dataframe\">\n",
       "  <thead>\n",
       "    <tr style=\"text-align: right;\">\n",
       "      <th></th>\n",
       "      <th>empno</th>\n",
       "      <th>ename</th>\n",
       "      <th>job</th>\n",
       "      <th>sal</th>\n",
       "      <th>deptno</th>\n",
       "    </tr>\n",
       "  </thead>\n",
       "  <tbody>\n",
       "    <tr>\n",
       "      <th>0</th>\n",
       "      <td>1001</td>\n",
       "      <td>ravi</td>\n",
       "      <td>dev</td>\n",
       "      <td>2443</td>\n",
       "      <td>10</td>\n",
       "    </tr>\n",
       "    <tr>\n",
       "      <th>1</th>\n",
       "      <td>1002</td>\n",
       "      <td>ramu</td>\n",
       "      <td>tester</td>\n",
       "      <td>7922</td>\n",
       "      <td>20</td>\n",
       "    </tr>\n",
       "    <tr>\n",
       "      <th>2</th>\n",
       "      <td>1003</td>\n",
       "      <td>raju</td>\n",
       "      <td>dev</td>\n",
       "      <td>3579</td>\n",
       "      <td>30</td>\n",
       "    </tr>\n",
       "    <tr>\n",
       "      <th>3</th>\n",
       "      <td>1004</td>\n",
       "      <td>hari</td>\n",
       "      <td>devops</td>\n",
       "      <td>5793</td>\n",
       "      <td>40</td>\n",
       "    </tr>\n",
       "    <tr>\n",
       "      <th>4</th>\n",
       "      <td>1005</td>\n",
       "      <td>giri</td>\n",
       "      <td>manager</td>\n",
       "      <td>7942</td>\n",
       "      <td>26</td>\n",
       "    </tr>\n",
       "    <tr>\n",
       "      <th>5</th>\n",
       "      <td>1006</td>\n",
       "      <td>suri</td>\n",
       "      <td>dev</td>\n",
       "      <td>8327</td>\n",
       "      <td>47</td>\n",
       "    </tr>\n",
       "    <tr>\n",
       "      <th>6</th>\n",
       "      <td>1007</td>\n",
       "      <td>raghu</td>\n",
       "      <td>tester</td>\n",
       "      <td>5932</td>\n",
       "      <td>89</td>\n",
       "    </tr>\n",
       "    <tr>\n",
       "      <th>7</th>\n",
       "      <td>1008</td>\n",
       "      <td>kumar</td>\n",
       "      <td>dev</td>\n",
       "      <td>4792</td>\n",
       "      <td>46</td>\n",
       "    </tr>\n",
       "  </tbody>\n",
       "</table>\n",
       "</div>"
      ],
      "text/plain": [
       "   empno  ename      job   sal  deptno\n",
       "0   1001   ravi      dev  2443      10\n",
       "1   1002   ramu   tester  7922      20\n",
       "2   1003   raju      dev  3579      30\n",
       "3   1004   hari   devops  5793      40\n",
       "4   1005   giri  manager  7942      26\n",
       "5   1006   suri      dev  8327      47\n",
       "6   1007  raghu   tester  5932      89\n",
       "7   1008  kumar      dev  4792      46"
      ]
     },
     "execution_count": 40,
     "metadata": {},
     "output_type": "execute_result"
    }
   ],
   "source": [
    "df5"
   ]
  },
  {
   "cell_type": "code",
   "execution_count": 41,
   "id": "f7fc4b0c-6670-4b1c-a786-03183e9abdeb",
   "metadata": {},
   "outputs": [
    {
     "data": {
      "text/plain": [
       "7"
      ]
     },
     "execution_count": 41,
     "metadata": {},
     "output_type": "execute_result"
    }
   ],
   "source": [
    "df5.index[-1]"
   ]
  },
  {
   "cell_type": "code",
   "execution_count": 42,
   "id": "7fbe0389-87e3-4c99-817e-b41715de264a",
   "metadata": {},
   "outputs": [
    {
     "data": {
      "text/plain": [
       "7    4792\n",
       "Name: sal, dtype: int64"
      ]
     },
     "execution_count": 42,
     "metadata": {},
     "output_type": "execute_result"
    }
   ],
   "source": [
    "df5.loc[[df5.index[-1]],'sal']"
   ]
  },
  {
   "cell_type": "code",
   "execution_count": 44,
   "id": "ae8934fe-2f78-47a5-814e-ced349de0125",
   "metadata": {},
   "outputs": [
    {
     "data": {
      "text/html": [
       "<div>\n",
       "<style scoped>\n",
       "    .dataframe tbody tr th:only-of-type {\n",
       "        vertical-align: middle;\n",
       "    }\n",
       "\n",
       "    .dataframe tbody tr th {\n",
       "        vertical-align: top;\n",
       "    }\n",
       "\n",
       "    .dataframe thead th {\n",
       "        text-align: right;\n",
       "    }\n",
       "</style>\n",
       "<table border=\"1\" class=\"dataframe\">\n",
       "  <thead>\n",
       "    <tr style=\"text-align: right;\">\n",
       "      <th></th>\n",
       "      <th>empno</th>\n",
       "      <th>ename</th>\n",
       "      <th>job</th>\n",
       "      <th>sal</th>\n",
       "      <th>deptno</th>\n",
       "    </tr>\n",
       "  </thead>\n",
       "  <tbody>\n",
       "    <tr>\n",
       "      <th>0</th>\n",
       "      <td>1001</td>\n",
       "      <td>ravi</td>\n",
       "      <td>dev</td>\n",
       "      <td>2443</td>\n",
       "      <td>10</td>\n",
       "    </tr>\n",
       "    <tr>\n",
       "      <th>2</th>\n",
       "      <td>1003</td>\n",
       "      <td>raju</td>\n",
       "      <td>dev</td>\n",
       "      <td>3579</td>\n",
       "      <td>30</td>\n",
       "    </tr>\n",
       "    <tr>\n",
       "      <th>5</th>\n",
       "      <td>1006</td>\n",
       "      <td>suri</td>\n",
       "      <td>dev</td>\n",
       "      <td>8327</td>\n",
       "      <td>47</td>\n",
       "    </tr>\n",
       "    <tr>\n",
       "      <th>7</th>\n",
       "      <td>1008</td>\n",
       "      <td>kumar</td>\n",
       "      <td>dev</td>\n",
       "      <td>4792</td>\n",
       "      <td>46</td>\n",
       "    </tr>\n",
       "  </tbody>\n",
       "</table>\n",
       "</div>"
      ],
      "text/plain": [
       "   empno  ename  job   sal  deptno\n",
       "0   1001   ravi  dev  2443      10\n",
       "2   1003   raju  dev  3579      30\n",
       "5   1006   suri  dev  8327      47\n",
       "7   1008  kumar  dev  4792      46"
      ]
     },
     "execution_count": 44,
     "metadata": {},
     "output_type": "execute_result"
    }
   ],
   "source": [
    "#get all employees who are developers\n",
    "df5[df5['job']=='dev']"
   ]
  },
  {
   "cell_type": "code",
   "execution_count": 48,
   "id": "0fec67c3-8006-4900-a05b-b2376ea015be",
   "metadata": {},
   "outputs": [
    {
     "data": {
      "text/html": [
       "<div>\n",
       "<style scoped>\n",
       "    .dataframe tbody tr th:only-of-type {\n",
       "        vertical-align: middle;\n",
       "    }\n",
       "\n",
       "    .dataframe tbody tr th {\n",
       "        vertical-align: top;\n",
       "    }\n",
       "\n",
       "    .dataframe thead th {\n",
       "        text-align: right;\n",
       "    }\n",
       "</style>\n",
       "<table border=\"1\" class=\"dataframe\">\n",
       "  <thead>\n",
       "    <tr style=\"text-align: right;\">\n",
       "      <th></th>\n",
       "      <th>empno</th>\n",
       "      <th>ename</th>\n",
       "      <th>job</th>\n",
       "      <th>sal</th>\n",
       "      <th>deptno</th>\n",
       "    </tr>\n",
       "  </thead>\n",
       "  <tbody>\n",
       "    <tr>\n",
       "      <th>1</th>\n",
       "      <td>1002</td>\n",
       "      <td>ramu</td>\n",
       "      <td>tester</td>\n",
       "      <td>7922</td>\n",
       "      <td>20</td>\n",
       "    </tr>\n",
       "    <tr>\n",
       "      <th>3</th>\n",
       "      <td>1004</td>\n",
       "      <td>hari</td>\n",
       "      <td>devops</td>\n",
       "      <td>5793</td>\n",
       "      <td>40</td>\n",
       "    </tr>\n",
       "    <tr>\n",
       "      <th>4</th>\n",
       "      <td>1005</td>\n",
       "      <td>giri</td>\n",
       "      <td>manager</td>\n",
       "      <td>7942</td>\n",
       "      <td>26</td>\n",
       "    </tr>\n",
       "    <tr>\n",
       "      <th>5</th>\n",
       "      <td>1006</td>\n",
       "      <td>suri</td>\n",
       "      <td>dev</td>\n",
       "      <td>8327</td>\n",
       "      <td>47</td>\n",
       "    </tr>\n",
       "    <tr>\n",
       "      <th>6</th>\n",
       "      <td>1007</td>\n",
       "      <td>raghu</td>\n",
       "      <td>tester</td>\n",
       "      <td>5932</td>\n",
       "      <td>89</td>\n",
       "    </tr>\n",
       "  </tbody>\n",
       "</table>\n",
       "</div>"
      ],
      "text/plain": [
       "   empno  ename      job   sal  deptno\n",
       "1   1002   ramu   tester  7922      20\n",
       "3   1004   hari   devops  5793      40\n",
       "4   1005   giri  manager  7942      26\n",
       "5   1006   suri      dev  8327      47\n",
       "6   1007  raghu   tester  5932      89"
      ]
     },
     "execution_count": 48,
     "metadata": {},
     "output_type": "execute_result"
    }
   ],
   "source": [
    "#get all employees whose salary more than 5000\n",
    "df5[df5['sal']>=5000]"
   ]
  },
  {
   "cell_type": "code",
   "execution_count": 5,
   "id": "c461e2ec-a8cc-4020-8493-4adbc0b8c063",
   "metadata": {},
   "outputs": [
    {
     "data": {
      "text/html": [
       "<div>\n",
       "<style scoped>\n",
       "    .dataframe tbody tr th:only-of-type {\n",
       "        vertical-align: middle;\n",
       "    }\n",
       "\n",
       "    .dataframe tbody tr th {\n",
       "        vertical-align: top;\n",
       "    }\n",
       "\n",
       "    .dataframe thead th {\n",
       "        text-align: right;\n",
       "    }\n",
       "</style>\n",
       "<table border=\"1\" class=\"dataframe\">\n",
       "  <thead>\n",
       "    <tr style=\"text-align: right;\">\n",
       "      <th></th>\n",
       "      <th>empno</th>\n",
       "      <th>ename</th>\n",
       "      <th>job</th>\n",
       "      <th>sal</th>\n",
       "      <th>deptno</th>\n",
       "    </tr>\n",
       "  </thead>\n",
       "  <tbody>\n",
       "    <tr>\n",
       "      <th>0</th>\n",
       "      <td>1001</td>\n",
       "      <td>ravi</td>\n",
       "      <td>dev</td>\n",
       "      <td>2443</td>\n",
       "      <td>10</td>\n",
       "    </tr>\n",
       "    <tr>\n",
       "      <th>1</th>\n",
       "      <td>1002</td>\n",
       "      <td>ramu</td>\n",
       "      <td>tester</td>\n",
       "      <td>7922</td>\n",
       "      <td>20</td>\n",
       "    </tr>\n",
       "    <tr>\n",
       "      <th>2</th>\n",
       "      <td>1003</td>\n",
       "      <td>raju</td>\n",
       "      <td>dev</td>\n",
       "      <td>3579</td>\n",
       "      <td>30</td>\n",
       "    </tr>\n",
       "    <tr>\n",
       "      <th>3</th>\n",
       "      <td>1004</td>\n",
       "      <td>hari</td>\n",
       "      <td>devops</td>\n",
       "      <td>5793</td>\n",
       "      <td>40</td>\n",
       "    </tr>\n",
       "    <tr>\n",
       "      <th>4</th>\n",
       "      <td>1005</td>\n",
       "      <td>giri</td>\n",
       "      <td>manager</td>\n",
       "      <td>7942</td>\n",
       "      <td>26</td>\n",
       "    </tr>\n",
       "    <tr>\n",
       "      <th>5</th>\n",
       "      <td>1006</td>\n",
       "      <td>suri</td>\n",
       "      <td>dev</td>\n",
       "      <td>8327</td>\n",
       "      <td>47</td>\n",
       "    </tr>\n",
       "    <tr>\n",
       "      <th>6</th>\n",
       "      <td>1007</td>\n",
       "      <td>raghu</td>\n",
       "      <td>tester</td>\n",
       "      <td>5932</td>\n",
       "      <td>89</td>\n",
       "    </tr>\n",
       "    <tr>\n",
       "      <th>7</th>\n",
       "      <td>1008</td>\n",
       "      <td>kumar</td>\n",
       "      <td>dev</td>\n",
       "      <td>4792</td>\n",
       "      <td>46</td>\n",
       "    </tr>\n",
       "  </tbody>\n",
       "</table>\n",
       "</div>"
      ],
      "text/plain": [
       "   empno  ename      job   sal  deptno\n",
       "0   1001   ravi      dev  2443      10\n",
       "1   1002   ramu   tester  7922      20\n",
       "2   1003   raju      dev  3579      30\n",
       "3   1004   hari   devops  5793      40\n",
       "4   1005   giri  manager  7942      26\n",
       "5   1006   suri      dev  8327      47\n",
       "6   1007  raghu   tester  5932      89\n",
       "7   1008  kumar      dev  4792      46"
      ]
     },
     "execution_count": 5,
     "metadata": {},
     "output_type": "execute_result"
    }
   ],
   "source": [
    "import pandas as pd \n",
    "df5=pd.DataFrame({\n",
    "    'empno':[1001,1002,1003,1004,1005,1006,1007,1008],\n",
    "    'ename':['ravi','ramu','raju','hari','giri','suri','raghu','kumar'],\n",
    "    'job':['dev','tester','dev','devops','manager','dev','tester','dev'], \n",
    "    'sal':[2443,7922,3579,5793,7942,8327,5932,4792],\n",
    "    'deptno':[10,20,30,40,26,47,89,46]\n",
    "})\n",
    "df5"
   ]
  },
  {
   "cell_type": "code",
   "execution_count": 7,
   "id": "f1eb1a6a-3dc8-4078-870b-64d2e99f1e52",
   "metadata": {},
   "outputs": [
    {
     "name": "stdin",
     "output_type": "stream",
     "text": [
      "Enter employee name hari\n"
     ]
    },
    {
     "data": {
      "text/html": [
       "<div>\n",
       "<style scoped>\n",
       "    .dataframe tbody tr th:only-of-type {\n",
       "        vertical-align: middle;\n",
       "    }\n",
       "\n",
       "    .dataframe tbody tr th {\n",
       "        vertical-align: top;\n",
       "    }\n",
       "\n",
       "    .dataframe thead th {\n",
       "        text-align: right;\n",
       "    }\n",
       "</style>\n",
       "<table border=\"1\" class=\"dataframe\">\n",
       "  <thead>\n",
       "    <tr style=\"text-align: right;\">\n",
       "      <th></th>\n",
       "      <th>empno</th>\n",
       "      <th>ename</th>\n",
       "      <th>job</th>\n",
       "      <th>sal</th>\n",
       "      <th>deptno</th>\n",
       "    </tr>\n",
       "  </thead>\n",
       "  <tbody>\n",
       "    <tr>\n",
       "      <th>3</th>\n",
       "      <td>1004</td>\n",
       "      <td>hari</td>\n",
       "      <td>devops</td>\n",
       "      <td>5793</td>\n",
       "      <td>40</td>\n",
       "    </tr>\n",
       "  </tbody>\n",
       "</table>\n",
       "</div>"
      ],
      "text/plain": [
       "   empno ename     job   sal  deptno\n",
       "3   1004  hari  devops  5793      40"
      ]
     },
     "execution_count": 7,
     "metadata": {},
     "output_type": "execute_result"
    }
   ],
   "source": [
    "#get all employee details based on name given\n",
    "name_given=input(\"Enter employee name\")\n",
    "df5[df5['ename']==name_given]"
   ]
  },
  {
   "cell_type": "code",
   "execution_count": 30,
   "id": "4a6dfb02-d5a3-4e5d-8b96-4d67255deed6",
   "metadata": {},
   "outputs": [
    {
     "data": {
      "text/html": [
       "<div>\n",
       "<style scoped>\n",
       "    .dataframe tbody tr th:only-of-type {\n",
       "        vertical-align: middle;\n",
       "    }\n",
       "\n",
       "    .dataframe tbody tr th {\n",
       "        vertical-align: top;\n",
       "    }\n",
       "\n",
       "    .dataframe thead th {\n",
       "        text-align: right;\n",
       "    }\n",
       "</style>\n",
       "<table border=\"1\" class=\"dataframe\">\n",
       "  <thead>\n",
       "    <tr style=\"text-align: right;\">\n",
       "      <th></th>\n",
       "      <th>empno</th>\n",
       "      <th>ename</th>\n",
       "      <th>job</th>\n",
       "      <th>sal</th>\n",
       "      <th>deptno</th>\n",
       "    </tr>\n",
       "  </thead>\n",
       "  <tbody>\n",
       "    <tr>\n",
       "      <th>0</th>\n",
       "      <td>1001</td>\n",
       "      <td>ravi</td>\n",
       "      <td>dev</td>\n",
       "      <td>2443</td>\n",
       "      <td>10</td>\n",
       "    </tr>\n",
       "    <tr>\n",
       "      <th>2</th>\n",
       "      <td>1003</td>\n",
       "      <td>raju</td>\n",
       "      <td>dev</td>\n",
       "      <td>3579</td>\n",
       "      <td>30</td>\n",
       "    </tr>\n",
       "    <tr>\n",
       "      <th>5</th>\n",
       "      <td>1006</td>\n",
       "      <td>suri</td>\n",
       "      <td>dev</td>\n",
       "      <td>8327</td>\n",
       "      <td>47</td>\n",
       "    </tr>\n",
       "    <tr>\n",
       "      <th>7</th>\n",
       "      <td>1008</td>\n",
       "      <td>kumar</td>\n",
       "      <td>dev</td>\n",
       "      <td>4792</td>\n",
       "      <td>46</td>\n",
       "    </tr>\n",
       "  </tbody>\n",
       "</table>\n",
       "</div>"
      ],
      "text/plain": [
       "   empno  ename  job   sal  deptno\n",
       "0   1001   ravi  dev  2443      10\n",
       "2   1003   raju  dev  3579      30\n",
       "5   1006   suri  dev  8327      47\n",
       "7   1008  kumar  dev  4792      46"
      ]
     },
     "execution_count": 30,
     "metadata": {},
     "output_type": "execute_result"
    }
   ],
   "source": [
    "df5[df5['job']=='dev']"
   ]
  },
  {
   "cell_type": "code",
   "execution_count": 35,
   "id": "49847a50-4e38-4f90-a2ab-d6e9bbdeee1c",
   "metadata": {},
   "outputs": [
    {
     "data": {
      "text/html": [
       "<div>\n",
       "<style scoped>\n",
       "    .dataframe tbody tr th:only-of-type {\n",
       "        vertical-align: middle;\n",
       "    }\n",
       "\n",
       "    .dataframe tbody tr th {\n",
       "        vertical-align: top;\n",
       "    }\n",
       "\n",
       "    .dataframe thead th {\n",
       "        text-align: right;\n",
       "    }\n",
       "</style>\n",
       "<table border=\"1\" class=\"dataframe\">\n",
       "  <thead>\n",
       "    <tr style=\"text-align: right;\">\n",
       "      <th></th>\n",
       "      <th>empno</th>\n",
       "      <th>ename</th>\n",
       "      <th>job</th>\n",
       "      <th>sal</th>\n",
       "      <th>deptno</th>\n",
       "    </tr>\n",
       "  </thead>\n",
       "  <tbody>\n",
       "    <tr>\n",
       "      <th>0</th>\n",
       "      <td>1001</td>\n",
       "      <td>ravi</td>\n",
       "      <td>dev</td>\n",
       "      <td>2443</td>\n",
       "      <td>10</td>\n",
       "    </tr>\n",
       "    <tr>\n",
       "      <th>1</th>\n",
       "      <td>1002</td>\n",
       "      <td>ramu</td>\n",
       "      <td>tester</td>\n",
       "      <td>7922</td>\n",
       "      <td>20</td>\n",
       "    </tr>\n",
       "    <tr>\n",
       "      <th>2</th>\n",
       "      <td>1003</td>\n",
       "      <td>raju</td>\n",
       "      <td>dev</td>\n",
       "      <td>3579</td>\n",
       "      <td>30</td>\n",
       "    </tr>\n",
       "    <tr>\n",
       "      <th>5</th>\n",
       "      <td>1006</td>\n",
       "      <td>suri</td>\n",
       "      <td>dev</td>\n",
       "      <td>8327</td>\n",
       "      <td>47</td>\n",
       "    </tr>\n",
       "    <tr>\n",
       "      <th>6</th>\n",
       "      <td>1007</td>\n",
       "      <td>raghu</td>\n",
       "      <td>tester</td>\n",
       "      <td>5932</td>\n",
       "      <td>89</td>\n",
       "    </tr>\n",
       "    <tr>\n",
       "      <th>7</th>\n",
       "      <td>1008</td>\n",
       "      <td>kumar</td>\n",
       "      <td>dev</td>\n",
       "      <td>4792</td>\n",
       "      <td>46</td>\n",
       "    </tr>\n",
       "  </tbody>\n",
       "</table>\n",
       "</div>"
      ],
      "text/plain": [
       "   empno  ename     job   sal  deptno\n",
       "0   1001   ravi     dev  2443      10\n",
       "1   1002   ramu  tester  7922      20\n",
       "2   1003   raju     dev  3579      30\n",
       "5   1006   suri     dev  8327      47\n",
       "6   1007  raghu  tester  5932      89\n",
       "7   1008  kumar     dev  4792      46"
      ]
     },
     "execution_count": 35,
     "metadata": {},
     "output_type": "execute_result"
    }
   ],
   "source": [
    "#get all developers information whose sal is more than 5000\n",
    "df5[(df5['job']=='dev') | (df5['job']=='tester')]"
   ]
  },
  {
   "cell_type": "code",
   "execution_count": 36,
   "id": "63990796-32bd-4588-bf68-342c68b90776",
   "metadata": {},
   "outputs": [
    {
     "data": {
      "text/plain": [
       "0    2443\n",
       "1    7922\n",
       "2    3579\n",
       "3    5793\n",
       "4    7942\n",
       "5    8327\n",
       "6    5932\n",
       "7    4792\n",
       "Name: sal, dtype: int64"
      ]
     },
     "execution_count": 36,
     "metadata": {},
     "output_type": "execute_result"
    }
   ],
   "source": [
    "#aggregate functions\n",
    "df5['sal']"
   ]
  },
  {
   "cell_type": "code",
   "execution_count": 38,
   "id": "81c6bab5-20b1-48a3-8177-758d94c2535d",
   "metadata": {},
   "outputs": [
    {
     "data": {
      "text/plain": [
       "8327"
      ]
     },
     "execution_count": 38,
     "metadata": {},
     "output_type": "execute_result"
    }
   ],
   "source": [
    "df5['sal'].max()"
   ]
  },
  {
   "cell_type": "code",
   "execution_count": 39,
   "id": "eb1af0de-e922-44a5-9b0e-0167f23c0158",
   "metadata": {},
   "outputs": [
    {
     "data": {
      "text/plain": [
       "2443"
      ]
     },
     "execution_count": 39,
     "metadata": {},
     "output_type": "execute_result"
    }
   ],
   "source": [
    "df5['sal'].min()"
   ]
  },
  {
   "cell_type": "code",
   "execution_count": 2,
   "id": "e8561a8a-35cf-481b-812f-262d2890888a",
   "metadata": {},
   "outputs": [],
   "source": [
    "import pandas as pd \n",
    "df5=pd.DataFrame({\n",
    "    'empno':[1001,1002,1003,1004,1005,1006,1007,1008],\n",
    "    'ename':['ravi','ramu','raju','hari','giri','suri','raghu','kumar'],\n",
    "    'job':['dev','tester','dev','devops','manager','dev','tester','dev'], \n",
    "    'sal':[2443,7922,3579,5793,7942,8327,5932,4792],\n",
    "    'deptno':[10,20,30,40,26,47,89,46]\n",
    "})"
   ]
  },
  {
   "cell_type": "code",
   "execution_count": 3,
   "id": "62b21ae2-bc67-4a2d-8fed-1f17ea759066",
   "metadata": {},
   "outputs": [
    {
     "data": {
      "text/plain": [
       "2161.315455920306"
      ]
     },
     "execution_count": 3,
     "metadata": {},
     "output_type": "execute_result"
    }
   ],
   "source": [
    "df5['sal'].std()"
   ]
  },
  {
   "cell_type": "code",
   "execution_count": 7,
   "id": "9a6e7da7-a09c-429f-bf56-4c4fa1acb079",
   "metadata": {},
   "outputs": [
    {
     "data": {
      "text/plain": [
       "np.float64(5841.25)"
      ]
     },
     "execution_count": 7,
     "metadata": {},
     "output_type": "execute_result"
    }
   ],
   "source": [
    "df5['sal'].mean()"
   ]
  },
  {
   "cell_type": "code",
   "execution_count": 8,
   "id": "3303dc1f-bce4-4b32-b3c4-5eeb3797445e",
   "metadata": {},
   "outputs": [
    {
     "data": {
      "text/html": [
       "<div>\n",
       "<style scoped>\n",
       "    .dataframe tbody tr th:only-of-type {\n",
       "        vertical-align: middle;\n",
       "    }\n",
       "\n",
       "    .dataframe tbody tr th {\n",
       "        vertical-align: top;\n",
       "    }\n",
       "\n",
       "    .dataframe thead th {\n",
       "        text-align: right;\n",
       "    }\n",
       "</style>\n",
       "<table border=\"1\" class=\"dataframe\">\n",
       "  <thead>\n",
       "    <tr style=\"text-align: right;\">\n",
       "      <th></th>\n",
       "      <th>empno</th>\n",
       "      <th>sal</th>\n",
       "      <th>deptno</th>\n",
       "    </tr>\n",
       "  </thead>\n",
       "  <tbody>\n",
       "    <tr>\n",
       "      <th>count</th>\n",
       "      <td>8.00000</td>\n",
       "      <td>8.000000</td>\n",
       "      <td>8.00000</td>\n",
       "    </tr>\n",
       "    <tr>\n",
       "      <th>mean</th>\n",
       "      <td>1004.50000</td>\n",
       "      <td>5841.250000</td>\n",
       "      <td>38.50000</td>\n",
       "    </tr>\n",
       "    <tr>\n",
       "      <th>std</th>\n",
       "      <td>2.44949</td>\n",
       "      <td>2161.315456</td>\n",
       "      <td>24.09505</td>\n",
       "    </tr>\n",
       "    <tr>\n",
       "      <th>min</th>\n",
       "      <td>1001.00000</td>\n",
       "      <td>2443.000000</td>\n",
       "      <td>10.00000</td>\n",
       "    </tr>\n",
       "    <tr>\n",
       "      <th>25%</th>\n",
       "      <td>1002.75000</td>\n",
       "      <td>4488.750000</td>\n",
       "      <td>24.50000</td>\n",
       "    </tr>\n",
       "    <tr>\n",
       "      <th>50%</th>\n",
       "      <td>1004.50000</td>\n",
       "      <td>5862.500000</td>\n",
       "      <td>35.00000</td>\n",
       "    </tr>\n",
       "    <tr>\n",
       "      <th>75%</th>\n",
       "      <td>1006.25000</td>\n",
       "      <td>7927.000000</td>\n",
       "      <td>46.25000</td>\n",
       "    </tr>\n",
       "    <tr>\n",
       "      <th>max</th>\n",
       "      <td>1008.00000</td>\n",
       "      <td>8327.000000</td>\n",
       "      <td>89.00000</td>\n",
       "    </tr>\n",
       "  </tbody>\n",
       "</table>\n",
       "</div>"
      ],
      "text/plain": [
       "            empno          sal    deptno\n",
       "count     8.00000     8.000000   8.00000\n",
       "mean   1004.50000  5841.250000  38.50000\n",
       "std       2.44949  2161.315456  24.09505\n",
       "min    1001.00000  2443.000000  10.00000\n",
       "25%    1002.75000  4488.750000  24.50000\n",
       "50%    1004.50000  5862.500000  35.00000\n",
       "75%    1006.25000  7927.000000  46.25000\n",
       "max    1008.00000  8327.000000  89.00000"
      ]
     },
     "execution_count": 8,
     "metadata": {},
     "output_type": "execute_result"
    }
   ],
   "source": [
    "df5.describe()"
   ]
  },
  {
   "cell_type": "code",
   "execution_count": 9,
   "id": "826e5a81-80b6-4c8b-9086-0f55f38debc8",
   "metadata": {},
   "outputs": [
    {
     "data": {
      "text/plain": [
       "count       8.000000\n",
       "mean     5841.250000\n",
       "std      2161.315456\n",
       "min      2443.000000\n",
       "25%      4488.750000\n",
       "50%      5862.500000\n",
       "75%      7927.000000\n",
       "max      8327.000000\n",
       "Name: sal, dtype: float64"
      ]
     },
     "execution_count": 9,
     "metadata": {},
     "output_type": "execute_result"
    }
   ],
   "source": [
    "df5['sal'].describe()"
   ]
  },
  {
   "cell_type": "code",
   "execution_count": 3,
   "id": "30a86e59-d4e1-4b1b-934a-649d2801132d",
   "metadata": {},
   "outputs": [
    {
     "data": {
      "text/plain": [
       "0     2443\n",
       "1    10365\n",
       "2    13944\n",
       "3    19737\n",
       "4    27679\n",
       "5    36006\n",
       "6    41938\n",
       "7    46730\n",
       "Name: sal, dtype: int64"
      ]
     },
     "execution_count": 3,
     "metadata": {},
     "output_type": "execute_result"
    }
   ],
   "source": [
    "df5['sal'].cumsum()"
   ]
  },
  {
   "cell_type": "code",
   "execution_count": 13,
   "id": "33a9c327-a821-471f-b061-24af8fba24a1",
   "metadata": {},
   "outputs": [
    {
     "data": {
      "text/plain": [
       "dict"
      ]
     },
     "execution_count": 13,
     "metadata": {},
     "output_type": "execute_result"
    }
   ],
   "source": [
    "emptydata={\n",
    "    'empno':[1001,1002,1003,1004,1005,1006,1007,1008,1009],\n",
    "    'ename':['ravi','ramu','raju','hari','giri','suri','raghu','kumar','varma'],\n",
    "    'job':['dev','tester','dev','devops','manager','dev','tester','dev','Dev'], \n",
    "    'sal':[2443,7922,3579,5793,7942,8327,5932,4792],\n",
    "    'deptno':[10,20,30,40,26,47,89,46]\n",
    "}\n",
    "emptydata\n",
    "type(emptydata)"
   ]
  },
  {
   "cell_type": "code",
   "execution_count": 15,
   "id": "6d7d4872-b0d2-47ca-ba15-6afc2dc16c4e",
   "metadata": {},
   "outputs": [
    {
     "ename": "ValueError",
     "evalue": "All arrays must be of the same length",
     "output_type": "error",
     "traceback": [
      "\u001b[1;31m---------------------------------------------------------------------------\u001b[0m",
      "\u001b[1;31mValueError\u001b[0m                                Traceback (most recent call last)",
      "Cell \u001b[1;32mIn[15], line 2\u001b[0m\n\u001b[0;32m      1\u001b[0m \u001b[38;5;28;01mimport\u001b[39;00m\u001b[38;5;250m \u001b[39m\u001b[38;5;21;01mpandas\u001b[39;00m\u001b[38;5;250m \u001b[39m\u001b[38;5;28;01mas\u001b[39;00m\u001b[38;5;250m \u001b[39m\u001b[38;5;21;01mpd\u001b[39;00m\n\u001b[1;32m----> 2\u001b[0m df6\u001b[38;5;241m=\u001b[39mpd\u001b[38;5;241m.\u001b[39mDataFrame(emptydata)\n\u001b[0;32m      3\u001b[0m \u001b[38;5;28mtype\u001b[39m(df6)\n\u001b[0;32m      4\u001b[0m df6\n",
      "File \u001b[1;32m~\\anaconda3\\Lib\\site-packages\\pandas\\core\\frame.py:778\u001b[0m, in \u001b[0;36mDataFrame.__init__\u001b[1;34m(self, data, index, columns, dtype, copy)\u001b[0m\n\u001b[0;32m    772\u001b[0m     mgr \u001b[38;5;241m=\u001b[39m \u001b[38;5;28mself\u001b[39m\u001b[38;5;241m.\u001b[39m_init_mgr(\n\u001b[0;32m    773\u001b[0m         data, axes\u001b[38;5;241m=\u001b[39m{\u001b[38;5;124m\"\u001b[39m\u001b[38;5;124mindex\u001b[39m\u001b[38;5;124m\"\u001b[39m: index, \u001b[38;5;124m\"\u001b[39m\u001b[38;5;124mcolumns\u001b[39m\u001b[38;5;124m\"\u001b[39m: columns}, dtype\u001b[38;5;241m=\u001b[39mdtype, copy\u001b[38;5;241m=\u001b[39mcopy\n\u001b[0;32m    774\u001b[0m     )\n\u001b[0;32m    776\u001b[0m \u001b[38;5;28;01melif\u001b[39;00m \u001b[38;5;28misinstance\u001b[39m(data, \u001b[38;5;28mdict\u001b[39m):\n\u001b[0;32m    777\u001b[0m     \u001b[38;5;66;03m# GH#38939 de facto copy defaults to False only in non-dict cases\u001b[39;00m\n\u001b[1;32m--> 778\u001b[0m     mgr \u001b[38;5;241m=\u001b[39m dict_to_mgr(data, index, columns, dtype\u001b[38;5;241m=\u001b[39mdtype, copy\u001b[38;5;241m=\u001b[39mcopy, typ\u001b[38;5;241m=\u001b[39mmanager)\n\u001b[0;32m    779\u001b[0m \u001b[38;5;28;01melif\u001b[39;00m \u001b[38;5;28misinstance\u001b[39m(data, ma\u001b[38;5;241m.\u001b[39mMaskedArray):\n\u001b[0;32m    780\u001b[0m     \u001b[38;5;28;01mfrom\u001b[39;00m\u001b[38;5;250m \u001b[39m\u001b[38;5;21;01mnumpy\u001b[39;00m\u001b[38;5;21;01m.\u001b[39;00m\u001b[38;5;21;01mma\u001b[39;00m\u001b[38;5;250m \u001b[39m\u001b[38;5;28;01mimport\u001b[39;00m mrecords\n",
      "File \u001b[1;32m~\\anaconda3\\Lib\\site-packages\\pandas\\core\\internals\\construction.py:503\u001b[0m, in \u001b[0;36mdict_to_mgr\u001b[1;34m(data, index, columns, dtype, typ, copy)\u001b[0m\n\u001b[0;32m    499\u001b[0m     \u001b[38;5;28;01melse\u001b[39;00m:\n\u001b[0;32m    500\u001b[0m         \u001b[38;5;66;03m# dtype check to exclude e.g. range objects, scalars\u001b[39;00m\n\u001b[0;32m    501\u001b[0m         arrays \u001b[38;5;241m=\u001b[39m [x\u001b[38;5;241m.\u001b[39mcopy() \u001b[38;5;28;01mif\u001b[39;00m \u001b[38;5;28mhasattr\u001b[39m(x, \u001b[38;5;124m\"\u001b[39m\u001b[38;5;124mdtype\u001b[39m\u001b[38;5;124m\"\u001b[39m) \u001b[38;5;28;01melse\u001b[39;00m x \u001b[38;5;28;01mfor\u001b[39;00m x \u001b[38;5;129;01min\u001b[39;00m arrays]\n\u001b[1;32m--> 503\u001b[0m \u001b[38;5;28;01mreturn\u001b[39;00m arrays_to_mgr(arrays, columns, index, dtype\u001b[38;5;241m=\u001b[39mdtype, typ\u001b[38;5;241m=\u001b[39mtyp, consolidate\u001b[38;5;241m=\u001b[39mcopy)\n",
      "File \u001b[1;32m~\\anaconda3\\Lib\\site-packages\\pandas\\core\\internals\\construction.py:114\u001b[0m, in \u001b[0;36marrays_to_mgr\u001b[1;34m(arrays, columns, index, dtype, verify_integrity, typ, consolidate)\u001b[0m\n\u001b[0;32m    111\u001b[0m \u001b[38;5;28;01mif\u001b[39;00m verify_integrity:\n\u001b[0;32m    112\u001b[0m     \u001b[38;5;66;03m# figure out the index, if necessary\u001b[39;00m\n\u001b[0;32m    113\u001b[0m     \u001b[38;5;28;01mif\u001b[39;00m index \u001b[38;5;129;01mis\u001b[39;00m \u001b[38;5;28;01mNone\u001b[39;00m:\n\u001b[1;32m--> 114\u001b[0m         index \u001b[38;5;241m=\u001b[39m _extract_index(arrays)\n\u001b[0;32m    115\u001b[0m     \u001b[38;5;28;01melse\u001b[39;00m:\n\u001b[0;32m    116\u001b[0m         index \u001b[38;5;241m=\u001b[39m ensure_index(index)\n",
      "File \u001b[1;32m~\\anaconda3\\Lib\\site-packages\\pandas\\core\\internals\\construction.py:677\u001b[0m, in \u001b[0;36m_extract_index\u001b[1;34m(data)\u001b[0m\n\u001b[0;32m    675\u001b[0m lengths \u001b[38;5;241m=\u001b[39m \u001b[38;5;28mlist\u001b[39m(\u001b[38;5;28mset\u001b[39m(raw_lengths))\n\u001b[0;32m    676\u001b[0m \u001b[38;5;28;01mif\u001b[39;00m \u001b[38;5;28mlen\u001b[39m(lengths) \u001b[38;5;241m>\u001b[39m \u001b[38;5;241m1\u001b[39m:\n\u001b[1;32m--> 677\u001b[0m     \u001b[38;5;28;01mraise\u001b[39;00m \u001b[38;5;167;01mValueError\u001b[39;00m(\u001b[38;5;124m\"\u001b[39m\u001b[38;5;124mAll arrays must be of the same length\u001b[39m\u001b[38;5;124m\"\u001b[39m)\n\u001b[0;32m    679\u001b[0m \u001b[38;5;28;01mif\u001b[39;00m have_dicts:\n\u001b[0;32m    680\u001b[0m     \u001b[38;5;28;01mraise\u001b[39;00m \u001b[38;5;167;01mValueError\u001b[39;00m(\n\u001b[0;32m    681\u001b[0m         \u001b[38;5;124m\"\u001b[39m\u001b[38;5;124mMixing dicts with non-Series may lead to ambiguous ordering.\u001b[39m\u001b[38;5;124m\"\u001b[39m\n\u001b[0;32m    682\u001b[0m     )\n",
      "\u001b[1;31mValueError\u001b[0m: All arrays must be of the same length"
     ]
    }
   ],
   "source": [
    "import pandas as pd\n",
    "df6=pd.DataFrame(emptydata)"
   ]
  },
  {
   "cell_type": "code",
   "execution_count": null,
   "id": "b9f5cfb6-713d-451a-b989-ac38a7c3f69b",
   "metadata": {},
   "outputs": [],
   "source": []
  }
 ],
 "metadata": {
  "kernelspec": {
   "display_name": "Python (statsenv)",
   "language": "python",
   "name": "statsenv"
  },
  "language_info": {
   "codemirror_mode": {
    "name": "ipython",
    "version": 3
   },
   "file_extension": ".py",
   "mimetype": "text/x-python",
   "name": "python",
   "nbconvert_exporter": "python",
   "pygments_lexer": "ipython3",
   "version": "3.13.5"
  }
 },
 "nbformat": 4,
 "nbformat_minor": 5
}
