{
 "cells": [
  {
   "cell_type": "code",
   "execution_count": 1,
   "id": "370dc574-4a0b-4858-b094-2363ab1242da",
   "metadata": {},
   "outputs": [],
   "source": [
    "import pandas as pd"
   ]
  },
  {
   "cell_type": "code",
   "execution_count": 2,
   "id": "4724f5c6-792f-4e8d-ad50-12229445bc0c",
   "metadata": {},
   "outputs": [
    {
     "name": "stdout",
     "output_type": "stream",
     "text": [
      "Series with numbers\n",
      "0    10\n",
      "1    20\n",
      "2    30\n",
      "3    40\n",
      "4    50\n",
      "dtype: int64\n"
     ]
    }
   ],
   "source": [
    "print('Series with numbers')\n",
    "ser1=pd.Series([10,20,30,40,50])\n",
    "print(ser1)"
   ]
  },
  {
   "cell_type": "code",
   "execution_count": 3,
   "id": "93246cb0-fdce-4000-806d-205c2b98aa44",
   "metadata": {},
   "outputs": [
    {
     "name": "stdout",
     "output_type": "stream",
     "text": [
      "Series with strings\n",
      "0    python\n",
      "1       AWS\n",
      "2      java\n",
      "dtype: object\n"
     ]
    }
   ],
   "source": [
    "print('Series with strings')\n",
    "ser2=pd.Series(['python','AWS','java'])\n",
    "print(ser2)"
   ]
  },
  {
   "cell_type": "code",
   "execution_count": 4,
   "id": "4a7ee474-d6e0-4c6e-8233-58e78223dd6d",
   "metadata": {},
   "outputs": [
    {
     "name": "stdout",
     "output_type": "stream",
     "text": [
      "Slicing Series\n",
      "1    20\n",
      "2    30\n",
      "3    40\n",
      "dtype: int64\n",
      "4    50\n",
      "3    40\n",
      "2    30\n",
      "1    20\n",
      "0    10\n",
      "dtype: int64\n",
      "java\n",
      "0    python\n",
      "1       AWS\n",
      "2      java\n",
      "dtype: object\n",
      "0    python\n",
      "1       AWS\n",
      "2      java\n",
      "dtype: object\n",
      "0    python\n",
      "1       AWS\n",
      "dtype: object\n",
      "1     AWS\n",
      "2    java\n",
      "dtype: object\n"
     ]
    }
   ],
   "source": [
    "print(\"Slicing Series\")\n",
    "print(ser1[1:4])\n",
    "print(ser1[::-1])\n",
    "print(ser2.iloc[-1])\n",
    "print(ser2.head())\n",
    "print(ser2.tail())\n",
    "print(ser2.head(2))\n",
    "print(ser2.tail(2))"
   ]
  },
  {
   "cell_type": "code",
   "execution_count": 5,
   "id": "f104d935-754f-4130-8335-1ee6908d251b",
   "metadata": {},
   "outputs": [
    {
     "name": "stdout",
     "output_type": "stream",
     "text": [
      "DataFrames with numbers\n",
      "   0\n",
      "0  1\n",
      "1  2\n",
      "2  3\n",
      "3  4\n",
      "4  5\n"
     ]
    }
   ],
   "source": [
    "print('DataFrames with numbers')\n",
    "df1=pd.DataFrame({1,2,3,4,5})\n",
    "print(df1)"
   ]
  },
  {
   "cell_type": "code",
   "execution_count": 6,
   "id": "2edad07a-383d-4992-8cd0-0263dca7d3e5",
   "metadata": {},
   "outputs": [
    {
     "name": "stdout",
     "output_type": "stream",
     "text": [
      "DataFrames with strings\n",
      "    id  course\n",
      "0  101    java\n",
      "1  102     AWS\n",
      "2  103  python\n",
      "3  104   cloud\n",
      "4  105    html\n",
      "0    101\n",
      "1    102\n",
      "2    103\n",
      "3    104\n",
      "4    105\n",
      "Name: id, dtype: object\n",
      "1    102\n",
      "2    103\n",
      "Name: id, dtype: object\n",
      "0      java\n",
      "1       AWS\n",
      "2    python\n",
      "3     cloud\n",
      "4      html\n",
      "Name: course, dtype: object\n",
      "1       AWS\n",
      "2    python\n",
      "3     cloud\n",
      "Name: course, dtype: object\n"
     ]
    }
   ],
   "source": [
    "print('DataFrames with strings')\n",
    "df2=pd.DataFrame({'id':['101','102','103','104','105'],'course':['java','AWS','python','cloud','html']})\n",
    "print(df2)\n",
    "print(df2['id'])\n",
    "print(df2['id'][1:3])\n",
    "print(df2['course'])\n",
    "print(df2['course'][1:4])"
   ]
  },
  {
   "cell_type": "code",
   "execution_count": 7,
   "id": "d7373f00-5cf7-4655-bf6c-0f49a1a2e186",
   "metadata": {},
   "outputs": [
    {
     "name": "stdout",
     "output_type": "stream",
     "text": [
      "Slicing Series\n",
      "   0\n",
      "1  2\n",
      "2  3\n",
      "   0\n",
      "4  5\n",
      "3  4\n",
      "2  3\n",
      "1  2\n",
      "0  1\n",
      "0    3\n",
      "Name: 2, dtype: int64\n",
      "    id  course\n",
      "0  101    java\n",
      "1  102     AWS\n",
      "2  103  python\n",
      "3  104   cloud\n",
      "4  105    html\n",
      "    id  course\n",
      "0  101    java\n",
      "1  102     AWS\n",
      "2  103  python\n",
      "3  104   cloud\n",
      "4  105    html\n",
      "    id course\n",
      "0  101   java\n",
      "1  102    AWS\n",
      "    id course\n",
      "3  104  cloud\n",
      "4  105   html\n"
     ]
    }
   ],
   "source": [
    "print(\"Slicing Series\")\n",
    "print(df1[1:3])\n",
    "print(df1[::-1])\n",
    "print(df1.iloc[-3])\n",
    "print(df2.head())\n",
    "print(df2.tail())\n",
    "print(df2.head(2))\n",
    "print(df2.tail(2))"
   ]
  },
  {
   "cell_type": "code",
   "execution_count": null,
   "id": "20b7b81e-6f09-4521-b40e-236016865e84",
   "metadata": {},
   "outputs": [],
   "source": []
  }
 ],
 "metadata": {
  "kernelspec": {
   "display_name": "Python [conda env:base] *",
   "language": "python",
   "name": "conda-base-py"
  },
  "language_info": {
   "codemirror_mode": {
    "name": "ipython",
    "version": 3
   },
   "file_extension": ".py",
   "mimetype": "text/x-python",
   "name": "python",
   "nbconvert_exporter": "python",
   "pygments_lexer": "ipython3",
   "version": "3.13.5"
  }
 },
 "nbformat": 4,
 "nbformat_minor": 5
}
