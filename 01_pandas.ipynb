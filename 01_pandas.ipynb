{
 "cells": [
  {
   "cell_type": "code",
   "execution_count": 1,
   "id": "370dc574-4a0b-4858-b094-2363ab1242da",
   "metadata": {},
   "outputs": [],
   "source": [
    "import pandas as pd"
   ]
  },
  {
   "cell_type": "code",
   "execution_count": 2,
   "id": "4724f5c6-792f-4e8d-ad50-12229445bc0c",
   "metadata": {},
   "outputs": [
    {
     "name": "stdout",
     "output_type": "stream",
     "text": [
      "Series with numbers\n",
      "0    10\n",
      "1    20\n",
      "2    30\n",
      "3    40\n",
      "4    50\n",
      "dtype: int64\n"
     ]
    }
   ],
   "source": [
    "print('Series with numbers')\n",
    "ser1=pd.Series([10,20,30,40,50])\n",
    "print(ser1)"
   ]
  },
  {
   "cell_type": "code",
   "execution_count": 3,
   "id": "93246cb0-fdce-4000-806d-205c2b98aa44",
   "metadata": {},
   "outputs": [
    {
     "name": "stdout",
     "output_type": "stream",
     "text": [
      "Series with strings\n",
      "0    python\n",
      "1       AWS\n",
      "2      java\n",
      "dtype: object\n"
     ]
    }
   ],
   "source": [
    "print('Series with strings')\n",
    "ser2=pd.Series(['python','AWS','java'])\n",
    "print(ser2)"
   ]
  },
  {
   "cell_type": "code",
   "execution_count": 4,
   "id": "4a7ee474-d6e0-4c6e-8233-58e78223dd6d",
   "metadata": {},
   "outputs": [
    {
     "name": "stdout",
     "output_type": "stream",
     "text": [
      "Slicing Series\n",
      "1    20\n",
      "2    30\n",
      "3    40\n",
      "dtype: int64\n",
      "4    50\n",
      "3    40\n",
      "2    30\n",
      "1    20\n",
      "0    10\n",
      "dtype: int64\n",
      "java\n",
      "0    python\n",
      "1       AWS\n",
      "2      java\n",
      "dtype: object\n",
      "0    python\n",
      "1       AWS\n",
      "2      java\n",
      "dtype: object\n",
      "0    python\n",
      "1       AWS\n",
      "dtype: object\n",
      "1     AWS\n",
      "2    java\n",
      "dtype: object\n"
     ]
    }
   ],
   "source": [
    "print(\"Slicing Series\")\n",
    "print(ser1[1:4])\n",
    "print(ser1[::-1])\n",
    "print(ser2.iloc[-1])\n",
    "print(ser2.head())\n",
    "print(ser2.tail())\n",
    "print(ser2.head(2))\n",
    "print(ser2.tail(2))"
   ]
  },
  {
   "cell_type": "code",
   "execution_count": 5,
   "id": "f104d935-754f-4130-8335-1ee6908d251b",
   "metadata": {},
   "outputs": [
    {
     "name": "stdout",
     "output_type": "stream",
     "text": [
      "DataFrames with numbers\n",
      "   0\n",
      "0  1\n",
      "1  2\n",
      "2  3\n",
      "3  4\n",
      "4  5\n"
     ]
    }
   ],
   "source": [
    "print('DataFrames with numbers')\n",
    "df1=pd.DataFrame({1,2,3,4,5})\n",
    "print(df1)"
   ]
  },
  {
   "cell_type": "code",
   "execution_count": 6,
   "id": "2edad07a-383d-4992-8cd0-0263dca7d3e5",
   "metadata": {},
   "outputs": [
    {
     "name": "stdout",
     "output_type": "stream",
     "text": [
      "DataFrames with strings\n",
      "    id  course\n",
      "0  101    java\n",
      "1  102     AWS\n",
      "2  103  python\n",
      "3  104   cloud\n",
      "4  105    html\n",
      "0    101\n",
      "1    102\n",
      "2    103\n",
      "3    104\n",
      "4    105\n",
      "Name: id, dtype: object\n",
      "1    102\n",
      "2    103\n",
      "Name: id, dtype: object\n",
      "0      java\n",
      "1       AWS\n",
      "2    python\n",
      "3     cloud\n",
      "4      html\n",
      "Name: course, dtype: object\n",
      "1       AWS\n",
      "2    python\n",
      "3     cloud\n",
      "Name: course, dtype: object\n"
     ]
    }
   ],
   "source": [
    "print('DataFrames with strings')\n",
    "df2=pd.DataFrame({'id':['101','102','103','104','105'],'course':['java','AWS','python','cloud','html']})\n",
    "print(df2)\n",
    "print(df2['id'])\n",
    "print(df2['id'][1:3])\n",
    "print(df2['course'])\n",
    "print(df2['course'][1:4])"
   ]
  },
  {
   "cell_type": "code",
   "execution_count": 7,
   "id": "d7373f00-5cf7-4655-bf6c-0f49a1a2e186",
   "metadata": {},
   "outputs": [
    {
     "name": "stdout",
     "output_type": "stream",
     "text": [
      "Slicing Series\n",
      "   0\n",
      "1  2\n",
      "2  3\n",
      "   0\n",
      "4  5\n",
      "3  4\n",
      "2  3\n",
      "1  2\n",
      "0  1\n",
      "0    3\n",
      "Name: 2, dtype: int64\n",
      "    id  course\n",
      "0  101    java\n",
      "1  102     AWS\n",
      "2  103  python\n",
      "3  104   cloud\n",
      "4  105    html\n",
      "    id  course\n",
      "0  101    java\n",
      "1  102     AWS\n",
      "2  103  python\n",
      "3  104   cloud\n",
      "4  105    html\n",
      "    id course\n",
      "0  101   java\n",
      "1  102    AWS\n",
      "    id course\n",
      "3  104  cloud\n",
      "4  105   html\n"
     ]
    }
   ],
   "source": [
    "print(\"Slicing Series\")\n",
    "print(df1[1:3])\n",
    "print(df1[::-1])\n",
    "print(df1.iloc[-3])\n",
    "print(df2.head())\n",
    "print(df2.tail())\n",
    "print(df2.head(2))\n",
    "print(df2.tail(2))"
   ]
  },
  {
   "cell_type": "code",
   "execution_count": 8,
   "id": "20b7b81e-6f09-4521-b40e-236016865e84",
   "metadata": {},
   "outputs": [
    {
     "name": "stdout",
     "output_type": "stream",
     "text": [
      "   sid    sname\n",
      "0  101     ramu\n",
      "1  102     ravi\n",
      "2  103    kiran\n",
      "3  104     raju\n",
      "4  105  karthik\n",
      "5  106    kumar\n",
      "6  107     balu\n",
      "7  108    srinu\n",
      "8  109  kishore\n",
      "9  110     john\n",
      "sid       102\n",
      "sname    ravi\n",
      "Name: 1, dtype: object\n",
      "101\n",
      "kumar\n"
     ]
    }
   ],
   "source": [
    "df3=pd.DataFrame({'sid':['101','102','103','104','105','106','107','108','109','110'],\n",
    "      'sname':['ramu','ravi','kiran','raju','karthik','kumar',\n",
    "               'balu','srinu','kishore','john']\n",
    "      })\n",
    "print(df3)\n",
    "print(df3.iloc[1])\n",
    "print(df3.iloc[0,0])\n",
    "print(df3.iloc[5,1])"
   ]
  },
  {
   "cell_type": "code",
   "execution_count": 9,
   "id": "056f289f-df84-4f54-a4b6-5503a448fb28",
   "metadata": {},
   "outputs": [
    {
     "name": "stdout",
     "output_type": "stream",
     "text": [
      "   empno  ename      job\n",
      "0   1001   ravi      dev\n",
      "1   1002   ramu   tester\n",
      "2   1003   raju      dev\n",
      "3   1004   hari   devops\n",
      "4   1005   giri  manager\n",
      "5   1006   suri      dev\n",
      "6   1007  raghu   tester\n",
      "7   1008  kumar      dev\n",
      "tester\n",
      "devops\n",
      "kumar\n",
      "   empno ename      job\n",
      "0   1001  ravi      dev\n",
      "1   1002  ramu   tester\n",
      "2   1003  raju      dev\n",
      "3   1004  hari   devops\n",
      "4   1005  giri  manager\n",
      "   empno  ename      job\n",
      "7   1008  kumar      dev\n",
      "6   1007  raghu   tester\n",
      "5   1006   suri      dev\n",
      "4   1005   giri  manager\n",
      "3   1004   hari   devops\n",
      "2   1003   raju      dev\n",
      "1   1002   ramu   tester\n",
      "0   1001   ravi      dev\n",
      "0    1001\n",
      "1    1002\n",
      "2    1003\n",
      "3    1004\n",
      "4    1005\n",
      "5    1006\n",
      "6    1007\n",
      "7    1008\n",
      "Name: empno, dtype: int64\n",
      "0     ravi\n",
      "1     ramu\n",
      "2     raju\n",
      "3     hari\n",
      "4     giri\n",
      "5     suri\n",
      "6    raghu\n",
      "7    kumar\n",
      "Name: ename, dtype: object\n",
      "0        dev\n",
      "1     tester\n",
      "2        dev\n",
      "3     devops\n",
      "4    manager\n",
      "5        dev\n",
      "6     tester\n",
      "7        dev\n",
      "Name: job, dtype: object\n"
     ]
    }
   ],
   "source": [
    "df4=pd.DataFrame({\n",
    "    'empno':[1001,1002,1003,1004,1005,1006,1007,1008],\n",
    "    'ename':['ravi','ramu','raju','hari','giri','suri','raghu','kumar'],\n",
    "    'job':['dev','tester','dev','devops','manager','dev','tester','dev']\n",
    "})\n",
    "print(df4)\n",
    "print(df4.iloc[1,2])\n",
    "print(df4.iloc[3,2])\n",
    "print(df4.iloc[7,1])\n",
    "print(df4.iloc[0:5])\n",
    "print(df4.iloc[::-1])\n",
    "print(df4.iloc[:,0])#complete record,1st column\n",
    "print(df4.iloc[:,1])\n",
    "print(df4.iloc[:,2])\n"
   ]
  },
  {
   "cell_type": "code",
   "execution_count": 16,
   "id": "dc05262d-68f8-4936-bb61-c8713252c436",
   "metadata": {},
   "outputs": [
    {
     "name": "stdout",
     "output_type": "stream",
     "text": [
      "   empno  ename      job   sal\n",
      "0   1001   ravi      dev  2443\n",
      "1   1002   ramu   tester  7922\n",
      "2   1003   raju      dev  3579\n",
      "3   1004   hari   devops  5793\n",
      "4   1005   giri  manager  7942\n",
      "5   1006   suri      dev  8327\n",
      "6   1007  raghu   tester  5932\n",
      "7   1008  kumar      dev  4792\n",
      "  ename   sal\n",
      "0  ravi  2443\n",
      "1  ramu  7922\n",
      "2  raju  3579\n"
     ]
    },
    {
     "data": {
      "text/plain": [
       "np.int64(2443)"
      ]
     },
     "execution_count": 16,
     "metadata": {},
     "output_type": "execute_result"
    }
   ],
   "source": [
    "df5=pd.DataFrame({\n",
    "    'empno':[1001,1002,1003,1004,1005,1006,1007,1008],\n",
    "    'ename':['ravi','ramu','raju','hari','giri','suri','raghu','kumar'],\n",
    "    'job':['dev','tester','dev','devops','manager','dev','tester','dev'],\n",
    "    'sal':[2443,7922,3579,5793,7942,8327,5932,4792]\n",
    "})\n",
    "print(df5)\n",
    "print(df5.iloc[[0,1,2],[1,3]])\n"
   ]
  },
  {
   "cell_type": "code",
   "execution_count": 18,
   "id": "3ea1a414-a38c-498d-acd8-a67bba0afab6",
   "metadata": {},
   "outputs": [
    {
     "data": {
      "text/plain": [
       "np.int64(7922)"
      ]
     },
     "execution_count": 18,
     "metadata": {},
     "output_type": "execute_result"
    }
   ],
   "source": [
    "df5.loc[1,'sal']"
   ]
  },
  {
   "cell_type": "code",
   "execution_count": 20,
   "id": "82300a14-a392-4afc-b89e-114be2660b2a",
   "metadata": {},
   "outputs": [
    {
     "data": {
      "text/plain": [
       "ename    hari\n",
       "sal      5793\n",
       "Name: 3, dtype: object"
      ]
     },
     "execution_count": 20,
     "metadata": {},
     "output_type": "execute_result"
    }
   ],
   "source": [
    "df5.loc[3,['ename','sal']]"
   ]
  },
  {
   "cell_type": "code",
   "execution_count": 27,
   "id": "62bdf502-537a-49ea-9369-0cadfc820bb7",
   "metadata": {},
   "outputs": [
    {
     "data": {
      "text/html": [
       "<div>\n",
       "<style scoped>\n",
       "    .dataframe tbody tr th:only-of-type {\n",
       "        vertical-align: middle;\n",
       "    }\n",
       "\n",
       "    .dataframe tbody tr th {\n",
       "        vertical-align: top;\n",
       "    }\n",
       "\n",
       "    .dataframe thead th {\n",
       "        text-align: right;\n",
       "    }\n",
       "</style>\n",
       "<table border=\"1\" class=\"dataframe\">\n",
       "  <thead>\n",
       "    <tr style=\"text-align: right;\">\n",
       "      <th></th>\n",
       "      <th>empno</th>\n",
       "      <th>ename</th>\n",
       "      <th>job</th>\n",
       "      <th>sal</th>\n",
       "      <th>deptno</th>\n",
       "    </tr>\n",
       "  </thead>\n",
       "  <tbody>\n",
       "    <tr>\n",
       "      <th>0</th>\n",
       "      <td>1001</td>\n",
       "      <td>ravi</td>\n",
       "      <td>dev</td>\n",
       "      <td>2443</td>\n",
       "      <td>10</td>\n",
       "    </tr>\n",
       "    <tr>\n",
       "      <th>1</th>\n",
       "      <td>1002</td>\n",
       "      <td>ramu</td>\n",
       "      <td>tester</td>\n",
       "      <td>7922</td>\n",
       "      <td>20</td>\n",
       "    </tr>\n",
       "    <tr>\n",
       "      <th>2</th>\n",
       "      <td>1003</td>\n",
       "      <td>raju</td>\n",
       "      <td>dev</td>\n",
       "      <td>3579</td>\n",
       "      <td>30</td>\n",
       "    </tr>\n",
       "    <tr>\n",
       "      <th>3</th>\n",
       "      <td>1004</td>\n",
       "      <td>hari</td>\n",
       "      <td>devops</td>\n",
       "      <td>5793</td>\n",
       "      <td>40</td>\n",
       "    </tr>\n",
       "    <tr>\n",
       "      <th>4</th>\n",
       "      <td>1005</td>\n",
       "      <td>giri</td>\n",
       "      <td>manager</td>\n",
       "      <td>7942</td>\n",
       "      <td>26</td>\n",
       "    </tr>\n",
       "    <tr>\n",
       "      <th>5</th>\n",
       "      <td>1006</td>\n",
       "      <td>suri</td>\n",
       "      <td>dev</td>\n",
       "      <td>8327</td>\n",
       "      <td>47</td>\n",
       "    </tr>\n",
       "    <tr>\n",
       "      <th>6</th>\n",
       "      <td>1007</td>\n",
       "      <td>raghu</td>\n",
       "      <td>tester</td>\n",
       "      <td>5932</td>\n",
       "      <td>89</td>\n",
       "    </tr>\n",
       "    <tr>\n",
       "      <th>7</th>\n",
       "      <td>1008</td>\n",
       "      <td>kumar</td>\n",
       "      <td>dev</td>\n",
       "      <td>4792</td>\n",
       "      <td>46</td>\n",
       "    </tr>\n",
       "  </tbody>\n",
       "</table>\n",
       "</div>"
      ],
      "text/plain": [
       "   empno  ename      job   sal  deptno\n",
       "0   1001   ravi      dev  2443      10\n",
       "1   1002   ramu   tester  7922      20\n",
       "2   1003   raju      dev  3579      30\n",
       "3   1004   hari   devops  5793      40\n",
       "4   1005   giri  manager  7942      26\n",
       "5   1006   suri      dev  8327      47\n",
       "6   1007  raghu   tester  5932      89\n",
       "7   1008  kumar      dev  4792      46"
      ]
     },
     "execution_count": 27,
     "metadata": {},
     "output_type": "execute_result"
    }
   ],
   "source": [
    "df5=pd.DataFrame({\n",
    "    'empno':[1001,1002,1003,1004,1005,1006,1007,1008],\n",
    "    'ename':['ravi','ramu','raju','hari','giri','suri','raghu','kumar'],\n",
    "    'job':['dev','tester','dev','devops','manager','dev','tester','dev'], \n",
    "    'sal':[2443,7922,3579,5793,7942,8327,5932,4792],\n",
    "    'deptno':[10,20,30,40,26,47,89,46]\n",
    "})\n",
    "df5"
   ]
  },
  {
   "cell_type": "code",
   "execution_count": 28,
   "id": "cb96a783-8175-46d1-9fd6-c15224086094",
   "metadata": {},
   "outputs": [
    {
     "data": {
      "text/html": [
       "<div>\n",
       "<style scoped>\n",
       "    .dataframe tbody tr th:only-of-type {\n",
       "        vertical-align: middle;\n",
       "    }\n",
       "\n",
       "    .dataframe tbody tr th {\n",
       "        vertical-align: top;\n",
       "    }\n",
       "\n",
       "    .dataframe thead th {\n",
       "        text-align: right;\n",
       "    }\n",
       "</style>\n",
       "<table border=\"1\" class=\"dataframe\">\n",
       "  <thead>\n",
       "    <tr style=\"text-align: right;\">\n",
       "      <th></th>\n",
       "      <th>empno</th>\n",
       "      <th>ename</th>\n",
       "      <th>job</th>\n",
       "      <th>sal</th>\n",
       "      <th>deptno</th>\n",
       "    </tr>\n",
       "  </thead>\n",
       "  <tbody>\n",
       "    <tr>\n",
       "      <th>7</th>\n",
       "      <td>1008</td>\n",
       "      <td>kumar</td>\n",
       "      <td>dev</td>\n",
       "      <td>4792</td>\n",
       "      <td>46</td>\n",
       "    </tr>\n",
       "    <tr>\n",
       "      <th>6</th>\n",
       "      <td>1007</td>\n",
       "      <td>raghu</td>\n",
       "      <td>tester</td>\n",
       "      <td>5932</td>\n",
       "      <td>89</td>\n",
       "    </tr>\n",
       "    <tr>\n",
       "      <th>5</th>\n",
       "      <td>1006</td>\n",
       "      <td>suri</td>\n",
       "      <td>dev</td>\n",
       "      <td>8327</td>\n",
       "      <td>47</td>\n",
       "    </tr>\n",
       "    <tr>\n",
       "      <th>4</th>\n",
       "      <td>1005</td>\n",
       "      <td>giri</td>\n",
       "      <td>manager</td>\n",
       "      <td>7942</td>\n",
       "      <td>26</td>\n",
       "    </tr>\n",
       "    <tr>\n",
       "      <th>3</th>\n",
       "      <td>1004</td>\n",
       "      <td>hari</td>\n",
       "      <td>devops</td>\n",
       "      <td>5793</td>\n",
       "      <td>40</td>\n",
       "    </tr>\n",
       "    <tr>\n",
       "      <th>2</th>\n",
       "      <td>1003</td>\n",
       "      <td>raju</td>\n",
       "      <td>dev</td>\n",
       "      <td>3579</td>\n",
       "      <td>30</td>\n",
       "    </tr>\n",
       "    <tr>\n",
       "      <th>1</th>\n",
       "      <td>1002</td>\n",
       "      <td>ramu</td>\n",
       "      <td>tester</td>\n",
       "      <td>7922</td>\n",
       "      <td>20</td>\n",
       "    </tr>\n",
       "    <tr>\n",
       "      <th>0</th>\n",
       "      <td>1001</td>\n",
       "      <td>ravi</td>\n",
       "      <td>dev</td>\n",
       "      <td>2443</td>\n",
       "      <td>10</td>\n",
       "    </tr>\n",
       "  </tbody>\n",
       "</table>\n",
       "</div>"
      ],
      "text/plain": [
       "   empno  ename      job   sal  deptno\n",
       "7   1008  kumar      dev  4792      46\n",
       "6   1007  raghu   tester  5932      89\n",
       "5   1006   suri      dev  8327      47\n",
       "4   1005   giri  manager  7942      26\n",
       "3   1004   hari   devops  5793      40\n",
       "2   1003   raju      dev  3579      30\n",
       "1   1002   ramu   tester  7922      20\n",
       "0   1001   ravi      dev  2443      10"
      ]
     },
     "execution_count": 28,
     "metadata": {},
     "output_type": "execute_result"
    }
   ],
   "source": [
    "df5.iloc[::-1]"
   ]
  },
  {
   "cell_type": "code",
   "execution_count": 29,
   "id": "b1d2cb73-724a-4b03-a80c-706e11192c81",
   "metadata": {},
   "outputs": [
    {
     "data": {
      "text/html": [
       "<div>\n",
       "<style scoped>\n",
       "    .dataframe tbody tr th:only-of-type {\n",
       "        vertical-align: middle;\n",
       "    }\n",
       "\n",
       "    .dataframe tbody tr th {\n",
       "        vertical-align: top;\n",
       "    }\n",
       "\n",
       "    .dataframe thead th {\n",
       "        text-align: right;\n",
       "    }\n",
       "</style>\n",
       "<table border=\"1\" class=\"dataframe\">\n",
       "  <thead>\n",
       "    <tr style=\"text-align: right;\">\n",
       "      <th></th>\n",
       "      <th>empno</th>\n",
       "      <th>ename</th>\n",
       "      <th>job</th>\n",
       "      <th>sal</th>\n",
       "      <th>deptno</th>\n",
       "    </tr>\n",
       "  </thead>\n",
       "  <tbody>\n",
       "    <tr>\n",
       "      <th>2</th>\n",
       "      <td>1003</td>\n",
       "      <td>raju</td>\n",
       "      <td>dev</td>\n",
       "      <td>3579</td>\n",
       "      <td>30</td>\n",
       "    </tr>\n",
       "    <tr>\n",
       "      <th>3</th>\n",
       "      <td>1004</td>\n",
       "      <td>hari</td>\n",
       "      <td>devops</td>\n",
       "      <td>5793</td>\n",
       "      <td>40</td>\n",
       "    </tr>\n",
       "    <tr>\n",
       "      <th>4</th>\n",
       "      <td>1005</td>\n",
       "      <td>giri</td>\n",
       "      <td>manager</td>\n",
       "      <td>7942</td>\n",
       "      <td>26</td>\n",
       "    </tr>\n",
       "    <tr>\n",
       "      <th>5</th>\n",
       "      <td>1006</td>\n",
       "      <td>suri</td>\n",
       "      <td>dev</td>\n",
       "      <td>8327</td>\n",
       "      <td>47</td>\n",
       "    </tr>\n",
       "    <tr>\n",
       "      <th>6</th>\n",
       "      <td>1007</td>\n",
       "      <td>raghu</td>\n",
       "      <td>tester</td>\n",
       "      <td>5932</td>\n",
       "      <td>89</td>\n",
       "    </tr>\n",
       "    <tr>\n",
       "      <th>7</th>\n",
       "      <td>1008</td>\n",
       "      <td>kumar</td>\n",
       "      <td>dev</td>\n",
       "      <td>4792</td>\n",
       "      <td>46</td>\n",
       "    </tr>\n",
       "  </tbody>\n",
       "</table>\n",
       "</div>"
      ],
      "text/plain": [
       "   empno  ename      job   sal  deptno\n",
       "2   1003   raju      dev  3579      30\n",
       "3   1004   hari   devops  5793      40\n",
       "4   1005   giri  manager  7942      26\n",
       "5   1006   suri      dev  8327      47\n",
       "6   1007  raghu   tester  5932      89\n",
       "7   1008  kumar      dev  4792      46"
      ]
     },
     "execution_count": 29,
     "metadata": {},
     "output_type": "execute_result"
    }
   ],
   "source": [
    "df5.iloc[2:9]"
   ]
  },
  {
   "cell_type": "code",
   "execution_count": 30,
   "id": "76f10422-2f06-4158-b425-099c22e95f37",
   "metadata": {},
   "outputs": [
    {
     "data": {
      "text/plain": [
       "empno     1003\n",
       "ename     raju\n",
       "job        dev\n",
       "sal       3579\n",
       "deptno      30\n",
       "Name: 2, dtype: object"
      ]
     },
     "execution_count": 30,
     "metadata": {},
     "output_type": "execute_result"
    }
   ],
   "source": [
    "df5.loc[2,]"
   ]
  },
  {
   "cell_type": "code",
   "execution_count": 39,
   "id": "8afa76a7-93a4-4573-abbd-b532b76cdf2b",
   "metadata": {},
   "outputs": [
    {
     "data": {
      "text/html": [
       "<div>\n",
       "<style scoped>\n",
       "    .dataframe tbody tr th:only-of-type {\n",
       "        vertical-align: middle;\n",
       "    }\n",
       "\n",
       "    .dataframe tbody tr th {\n",
       "        vertical-align: top;\n",
       "    }\n",
       "\n",
       "    .dataframe thead th {\n",
       "        text-align: right;\n",
       "    }\n",
       "</style>\n",
       "<table border=\"1\" class=\"dataframe\">\n",
       "  <thead>\n",
       "    <tr style=\"text-align: right;\">\n",
       "      <th></th>\n",
       "      <th>empno</th>\n",
       "      <th>ename</th>\n",
       "      <th>job</th>\n",
       "      <th>sal</th>\n",
       "      <th>deptno</th>\n",
       "    </tr>\n",
       "  </thead>\n",
       "  <tbody>\n",
       "    <tr>\n",
       "      <th>2</th>\n",
       "      <td>1003</td>\n",
       "      <td>raju</td>\n",
       "      <td>dev</td>\n",
       "      <td>3579</td>\n",
       "      <td>30</td>\n",
       "    </tr>\n",
       "  </tbody>\n",
       "</table>\n",
       "</div>"
      ],
      "text/plain": [
       "   empno ename  job   sal  deptno\n",
       "2   1003  raju  dev  3579      30"
      ]
     },
     "execution_count": 39,
     "metadata": {},
     "output_type": "execute_result"
    }
   ],
   "source": [
    "df5.loc[[2],['empno','ename','job','sal','deptno']]"
   ]
  },
  {
   "cell_type": "code",
   "execution_count": 40,
   "id": "f27cb47c-d817-4aee-99e2-c02d70d85786",
   "metadata": {},
   "outputs": [
    {
     "data": {
      "text/html": [
       "<div>\n",
       "<style scoped>\n",
       "    .dataframe tbody tr th:only-of-type {\n",
       "        vertical-align: middle;\n",
       "    }\n",
       "\n",
       "    .dataframe tbody tr th {\n",
       "        vertical-align: top;\n",
       "    }\n",
       "\n",
       "    .dataframe thead th {\n",
       "        text-align: right;\n",
       "    }\n",
       "</style>\n",
       "<table border=\"1\" class=\"dataframe\">\n",
       "  <thead>\n",
       "    <tr style=\"text-align: right;\">\n",
       "      <th></th>\n",
       "      <th>empno</th>\n",
       "      <th>ename</th>\n",
       "      <th>job</th>\n",
       "      <th>sal</th>\n",
       "      <th>deptno</th>\n",
       "    </tr>\n",
       "  </thead>\n",
       "  <tbody>\n",
       "    <tr>\n",
       "      <th>0</th>\n",
       "      <td>1001</td>\n",
       "      <td>ravi</td>\n",
       "      <td>dev</td>\n",
       "      <td>2443</td>\n",
       "      <td>10</td>\n",
       "    </tr>\n",
       "    <tr>\n",
       "      <th>1</th>\n",
       "      <td>1002</td>\n",
       "      <td>ramu</td>\n",
       "      <td>tester</td>\n",
       "      <td>7922</td>\n",
       "      <td>20</td>\n",
       "    </tr>\n",
       "    <tr>\n",
       "      <th>2</th>\n",
       "      <td>1003</td>\n",
       "      <td>raju</td>\n",
       "      <td>dev</td>\n",
       "      <td>3579</td>\n",
       "      <td>30</td>\n",
       "    </tr>\n",
       "    <tr>\n",
       "      <th>3</th>\n",
       "      <td>1004</td>\n",
       "      <td>hari</td>\n",
       "      <td>devops</td>\n",
       "      <td>5793</td>\n",
       "      <td>40</td>\n",
       "    </tr>\n",
       "    <tr>\n",
       "      <th>4</th>\n",
       "      <td>1005</td>\n",
       "      <td>giri</td>\n",
       "      <td>manager</td>\n",
       "      <td>7942</td>\n",
       "      <td>26</td>\n",
       "    </tr>\n",
       "    <tr>\n",
       "      <th>5</th>\n",
       "      <td>1006</td>\n",
       "      <td>suri</td>\n",
       "      <td>dev</td>\n",
       "      <td>8327</td>\n",
       "      <td>47</td>\n",
       "    </tr>\n",
       "    <tr>\n",
       "      <th>6</th>\n",
       "      <td>1007</td>\n",
       "      <td>raghu</td>\n",
       "      <td>tester</td>\n",
       "      <td>5932</td>\n",
       "      <td>89</td>\n",
       "    </tr>\n",
       "    <tr>\n",
       "      <th>7</th>\n",
       "      <td>1008</td>\n",
       "      <td>kumar</td>\n",
       "      <td>dev</td>\n",
       "      <td>4792</td>\n",
       "      <td>46</td>\n",
       "    </tr>\n",
       "  </tbody>\n",
       "</table>\n",
       "</div>"
      ],
      "text/plain": [
       "   empno  ename      job   sal  deptno\n",
       "0   1001   ravi      dev  2443      10\n",
       "1   1002   ramu   tester  7922      20\n",
       "2   1003   raju      dev  3579      30\n",
       "3   1004   hari   devops  5793      40\n",
       "4   1005   giri  manager  7942      26\n",
       "5   1006   suri      dev  8327      47\n",
       "6   1007  raghu   tester  5932      89\n",
       "7   1008  kumar      dev  4792      46"
      ]
     },
     "execution_count": 40,
     "metadata": {},
     "output_type": "execute_result"
    }
   ],
   "source": [
    "df5"
   ]
  },
  {
   "cell_type": "code",
   "execution_count": 41,
   "id": "f7fc4b0c-6670-4b1c-a786-03183e9abdeb",
   "metadata": {},
   "outputs": [
    {
     "data": {
      "text/plain": [
       "7"
      ]
     },
     "execution_count": 41,
     "metadata": {},
     "output_type": "execute_result"
    }
   ],
   "source": [
    "df5.index[-1]"
   ]
  },
  {
   "cell_type": "code",
   "execution_count": 42,
   "id": "7fbe0389-87e3-4c99-817e-b41715de264a",
   "metadata": {},
   "outputs": [
    {
     "data": {
      "text/plain": [
       "7    4792\n",
       "Name: sal, dtype: int64"
      ]
     },
     "execution_count": 42,
     "metadata": {},
     "output_type": "execute_result"
    }
   ],
   "source": [
    "df5.loc[[df5.index[-1]],'sal']"
   ]
  },
  {
   "cell_type": "code",
   "execution_count": 44,
   "id": "ae8934fe-2f78-47a5-814e-ced349de0125",
   "metadata": {},
   "outputs": [
    {
     "data": {
      "text/html": [
       "<div>\n",
       "<style scoped>\n",
       "    .dataframe tbody tr th:only-of-type {\n",
       "        vertical-align: middle;\n",
       "    }\n",
       "\n",
       "    .dataframe tbody tr th {\n",
       "        vertical-align: top;\n",
       "    }\n",
       "\n",
       "    .dataframe thead th {\n",
       "        text-align: right;\n",
       "    }\n",
       "</style>\n",
       "<table border=\"1\" class=\"dataframe\">\n",
       "  <thead>\n",
       "    <tr style=\"text-align: right;\">\n",
       "      <th></th>\n",
       "      <th>empno</th>\n",
       "      <th>ename</th>\n",
       "      <th>job</th>\n",
       "      <th>sal</th>\n",
       "      <th>deptno</th>\n",
       "    </tr>\n",
       "  </thead>\n",
       "  <tbody>\n",
       "    <tr>\n",
       "      <th>0</th>\n",
       "      <td>1001</td>\n",
       "      <td>ravi</td>\n",
       "      <td>dev</td>\n",
       "      <td>2443</td>\n",
       "      <td>10</td>\n",
       "    </tr>\n",
       "    <tr>\n",
       "      <th>2</th>\n",
       "      <td>1003</td>\n",
       "      <td>raju</td>\n",
       "      <td>dev</td>\n",
       "      <td>3579</td>\n",
       "      <td>30</td>\n",
       "    </tr>\n",
       "    <tr>\n",
       "      <th>5</th>\n",
       "      <td>1006</td>\n",
       "      <td>suri</td>\n",
       "      <td>dev</td>\n",
       "      <td>8327</td>\n",
       "      <td>47</td>\n",
       "    </tr>\n",
       "    <tr>\n",
       "      <th>7</th>\n",
       "      <td>1008</td>\n",
       "      <td>kumar</td>\n",
       "      <td>dev</td>\n",
       "      <td>4792</td>\n",
       "      <td>46</td>\n",
       "    </tr>\n",
       "  </tbody>\n",
       "</table>\n",
       "</div>"
      ],
      "text/plain": [
       "   empno  ename  job   sal  deptno\n",
       "0   1001   ravi  dev  2443      10\n",
       "2   1003   raju  dev  3579      30\n",
       "5   1006   suri  dev  8327      47\n",
       "7   1008  kumar  dev  4792      46"
      ]
     },
     "execution_count": 44,
     "metadata": {},
     "output_type": "execute_result"
    }
   ],
   "source": [
    "#get all employees who are developers\n",
    "df5[df5['job']=='dev']"
   ]
  },
  {
   "cell_type": "code",
   "execution_count": 48,
   "id": "0fec67c3-8006-4900-a05b-b2376ea015be",
   "metadata": {},
   "outputs": [
    {
     "data": {
      "text/html": [
       "<div>\n",
       "<style scoped>\n",
       "    .dataframe tbody tr th:only-of-type {\n",
       "        vertical-align: middle;\n",
       "    }\n",
       "\n",
       "    .dataframe tbody tr th {\n",
       "        vertical-align: top;\n",
       "    }\n",
       "\n",
       "    .dataframe thead th {\n",
       "        text-align: right;\n",
       "    }\n",
       "</style>\n",
       "<table border=\"1\" class=\"dataframe\">\n",
       "  <thead>\n",
       "    <tr style=\"text-align: right;\">\n",
       "      <th></th>\n",
       "      <th>empno</th>\n",
       "      <th>ename</th>\n",
       "      <th>job</th>\n",
       "      <th>sal</th>\n",
       "      <th>deptno</th>\n",
       "    </tr>\n",
       "  </thead>\n",
       "  <tbody>\n",
       "    <tr>\n",
       "      <th>1</th>\n",
       "      <td>1002</td>\n",
       "      <td>ramu</td>\n",
       "      <td>tester</td>\n",
       "      <td>7922</td>\n",
       "      <td>20</td>\n",
       "    </tr>\n",
       "    <tr>\n",
       "      <th>3</th>\n",
       "      <td>1004</td>\n",
       "      <td>hari</td>\n",
       "      <td>devops</td>\n",
       "      <td>5793</td>\n",
       "      <td>40</td>\n",
       "    </tr>\n",
       "    <tr>\n",
       "      <th>4</th>\n",
       "      <td>1005</td>\n",
       "      <td>giri</td>\n",
       "      <td>manager</td>\n",
       "      <td>7942</td>\n",
       "      <td>26</td>\n",
       "    </tr>\n",
       "    <tr>\n",
       "      <th>5</th>\n",
       "      <td>1006</td>\n",
       "      <td>suri</td>\n",
       "      <td>dev</td>\n",
       "      <td>8327</td>\n",
       "      <td>47</td>\n",
       "    </tr>\n",
       "    <tr>\n",
       "      <th>6</th>\n",
       "      <td>1007</td>\n",
       "      <td>raghu</td>\n",
       "      <td>tester</td>\n",
       "      <td>5932</td>\n",
       "      <td>89</td>\n",
       "    </tr>\n",
       "  </tbody>\n",
       "</table>\n",
       "</div>"
      ],
      "text/plain": [
       "   empno  ename      job   sal  deptno\n",
       "1   1002   ramu   tester  7922      20\n",
       "3   1004   hari   devops  5793      40\n",
       "4   1005   giri  manager  7942      26\n",
       "5   1006   suri      dev  8327      47\n",
       "6   1007  raghu   tester  5932      89"
      ]
     },
     "execution_count": 48,
     "metadata": {},
     "output_type": "execute_result"
    }
   ],
   "source": [
    "#get all employees whose salary more than 5000\n",
    "df5[df5['sal']>=5000]"
   ]
  },
  {
   "cell_type": "code",
   "execution_count": null,
   "id": "50225339-5893-4e40-9e49-69ae69884674",
   "metadata": {},
   "outputs": [],
   "source": [
    "#get all employee details based on name given\n",
    "name_given=input(\"Enter employee name\")\n",
    "df5[df5['ename']==name_given]"
   ]
  },
  {
   "cell_type": "code",
   "execution_count": null,
   "id": "4a6dfb02-d5a3-4e5d-8b96-4d67255deed6",
   "metadata": {},
   "outputs": [],
   "source": []
  }
 ],
 "metadata": {
  "kernelspec": {
   "display_name": "Python [conda env:base] *",
   "language": "python",
   "name": "conda-base-py"
  },
  "language_info": {
   "codemirror_mode": {
    "name": "ipython",
    "version": 3
   },
   "file_extension": ".py",
   "mimetype": "text/x-python",
   "name": "python",
   "nbconvert_exporter": "python",
   "pygments_lexer": "ipython3",
   "version": "3.13.5"
  }
 },
 "nbformat": 4,
 "nbformat_minor": 5
}
