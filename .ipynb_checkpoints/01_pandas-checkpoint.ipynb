{
 "cells": [
  {
   "cell_type": "code",
   "execution_count": 1,
   "id": "370dc574-4a0b-4858-b094-2363ab1242da",
   "metadata": {},
   "outputs": [],
   "source": [
    "import pandas as pd"
   ]
  },
  {
   "cell_type": "code",
   "execution_count": 2,
   "id": "4724f5c6-792f-4e8d-ad50-12229445bc0c",
   "metadata": {},
   "outputs": [
    {
     "name": "stdout",
     "output_type": "stream",
     "text": [
      "Series with numbers\n",
      "0    10\n",
      "1    20\n",
      "2    30\n",
      "3    40\n",
      "4    50\n",
      "dtype: int64\n"
     ]
    }
   ],
   "source": [
    "print('Series with numbers')\n",
    "ser1=pd.Series([10,20,30,40,50])\n",
    "print(ser1)"
   ]
  },
  {
   "cell_type": "code",
   "execution_count": 3,
   "id": "93246cb0-fdce-4000-806d-205c2b98aa44",
   "metadata": {},
   "outputs": [
    {
     "name": "stdout",
     "output_type": "stream",
     "text": [
      "Series with strings\n",
      "0    python\n",
      "1       AWS\n",
      "2      java\n",
      "dtype: object\n"
     ]
    }
   ],
   "source": [
    "print('Series with strings')\n",
    "ser2=pd.Series(['python','AWS','java'])\n",
    "print(ser2)"
   ]
  },
  {
   "cell_type": "code",
   "execution_count": 4,
   "id": "4a7ee474-d6e0-4c6e-8233-58e78223dd6d",
   "metadata": {},
   "outputs": [
    {
     "name": "stdout",
     "output_type": "stream",
     "text": [
      "Slicing Series\n",
      "1    20\n",
      "2    30\n",
      "3    40\n",
      "dtype: int64\n",
      "4    50\n",
      "3    40\n",
      "2    30\n",
      "1    20\n",
      "0    10\n",
      "dtype: int64\n",
      "java\n",
      "0    python\n",
      "1       AWS\n",
      "2      java\n",
      "dtype: object\n",
      "0    python\n",
      "1       AWS\n",
      "2      java\n",
      "dtype: object\n",
      "0    python\n",
      "1       AWS\n",
      "dtype: object\n",
      "1     AWS\n",
      "2    java\n",
      "dtype: object\n"
     ]
    }
   ],
   "source": [
    "print(\"Slicing Series\")\n",
    "print(ser1[1:4])\n",
    "print(ser1[::-1])\n",
    "print(ser2.iloc[-1])\n",
    "print(ser2.head())\n",
    "print(ser2.tail())\n",
    "print(ser2.head(2))\n",
    "print(ser2.tail(2))"
   ]
  },
  {
   "cell_type": "code",
   "execution_count": 5,
   "id": "f104d935-754f-4130-8335-1ee6908d251b",
   "metadata": {},
   "outputs": [
    {
     "name": "stdout",
     "output_type": "stream",
     "text": [
      "DataFrames with numbers\n",
      "   0\n",
      "0  1\n",
      "1  2\n",
      "2  3\n",
      "3  4\n",
      "4  5\n"
     ]
    }
   ],
   "source": [
    "print('DataFrames with numbers')\n",
    "df1=pd.DataFrame({1,2,3,4,5})\n",
    "print(df1)"
   ]
  },
  {
   "cell_type": "code",
   "execution_count": 6,
   "id": "2edad07a-383d-4992-8cd0-0263dca7d3e5",
   "metadata": {},
   "outputs": [
    {
     "name": "stdout",
     "output_type": "stream",
     "text": [
      "DataFrames with strings\n",
      "    id  course\n",
      "0  101    java\n",
      "1  102     AWS\n",
      "2  103  python\n",
      "3  104   cloud\n",
      "4  105    html\n",
      "0    101\n",
      "1    102\n",
      "2    103\n",
      "3    104\n",
      "4    105\n",
      "Name: id, dtype: object\n",
      "1    102\n",
      "2    103\n",
      "Name: id, dtype: object\n",
      "0      java\n",
      "1       AWS\n",
      "2    python\n",
      "3     cloud\n",
      "4      html\n",
      "Name: course, dtype: object\n",
      "1       AWS\n",
      "2    python\n",
      "3     cloud\n",
      "Name: course, dtype: object\n"
     ]
    }
   ],
   "source": [
    "print('DataFrames with strings')\n",
    "df2=pd.DataFrame({'id':['101','102','103','104','105'],'course':['java','AWS','python','cloud','html']})\n",
    "print(df2)\n",
    "print(df2['id'])\n",
    "print(df2['id'][1:3])\n",
    "print(df2['course'])\n",
    "print(df2['course'][1:4])"
   ]
  },
  {
   "cell_type": "code",
   "execution_count": 7,
   "id": "d7373f00-5cf7-4655-bf6c-0f49a1a2e186",
   "metadata": {},
   "outputs": [
    {
     "name": "stdout",
     "output_type": "stream",
     "text": [
      "Slicing Series\n",
      "   0\n",
      "1  2\n",
      "2  3\n",
      "   0\n",
      "4  5\n",
      "3  4\n",
      "2  3\n",
      "1  2\n",
      "0  1\n",
      "0    3\n",
      "Name: 2, dtype: int64\n",
      "    id  course\n",
      "0  101    java\n",
      "1  102     AWS\n",
      "2  103  python\n",
      "3  104   cloud\n",
      "4  105    html\n",
      "    id  course\n",
      "0  101    java\n",
      "1  102     AWS\n",
      "2  103  python\n",
      "3  104   cloud\n",
      "4  105    html\n",
      "    id course\n",
      "0  101   java\n",
      "1  102    AWS\n",
      "    id course\n",
      "3  104  cloud\n",
      "4  105   html\n"
     ]
    }
   ],
   "source": [
    "print(\"Slicing Series\")\n",
    "print(df1[1:3])\n",
    "print(df1[::-1])\n",
    "print(df1.iloc[-3])\n",
    "print(df2.head())\n",
    "print(df2.tail())\n",
    "print(df2.head(2))\n",
    "print(df2.tail(2))"
   ]
  },
  {
   "cell_type": "code",
   "execution_count": 8,
   "id": "20b7b81e-6f09-4521-b40e-236016865e84",
   "metadata": {},
   "outputs": [
    {
     "name": "stdout",
     "output_type": "stream",
     "text": [
      "   sid    sname\n",
      "0  101     ramu\n",
      "1  102     ravi\n",
      "2  103    kiran\n",
      "3  104     raju\n",
      "4  105  karthik\n",
      "5  106    kumar\n",
      "6  107     balu\n",
      "7  108    srinu\n",
      "8  109  kishore\n",
      "9  110     john\n",
      "sid       102\n",
      "sname    ravi\n",
      "Name: 1, dtype: object\n",
      "101\n",
      "kumar\n"
     ]
    }
   ],
   "source": [
    "df3=pd.DataFrame({'sid':['101','102','103','104','105','106','107','108','109','110'],\n",
    "      'sname':['ramu','ravi','kiran','raju','karthik','kumar',\n",
    "               'balu','srinu','kishore','john']\n",
    "      })\n",
    "print(df3)\n",
    "print(df3.iloc[1])\n",
    "print(df3.iloc[0,0])\n",
    "print(df3.iloc[5,1])"
   ]
  },
  {
   "cell_type": "code",
   "execution_count": 9,
   "id": "056f289f-df84-4f54-a4b6-5503a448fb28",
   "metadata": {},
   "outputs": [
    {
     "name": "stdout",
     "output_type": "stream",
     "text": [
      "   empno  ename      job\n",
      "0   1001   ravi      dev\n",
      "1   1002   ramu   tester\n",
      "2   1003   raju      dev\n",
      "3   1004   hari   devops\n",
      "4   1005   giri  manager\n",
      "5   1006   suri      dev\n",
      "6   1007  raghu   tester\n",
      "7   1008  kumar      dev\n",
      "tester\n",
      "devops\n",
      "kumar\n",
      "   empno ename      job\n",
      "0   1001  ravi      dev\n",
      "1   1002  ramu   tester\n",
      "2   1003  raju      dev\n",
      "3   1004  hari   devops\n",
      "4   1005  giri  manager\n",
      "   empno  ename      job\n",
      "7   1008  kumar      dev\n",
      "6   1007  raghu   tester\n",
      "5   1006   suri      dev\n",
      "4   1005   giri  manager\n",
      "3   1004   hari   devops\n",
      "2   1003   raju      dev\n",
      "1   1002   ramu   tester\n",
      "0   1001   ravi      dev\n",
      "0    1001\n",
      "1    1002\n",
      "2    1003\n",
      "3    1004\n",
      "4    1005\n",
      "5    1006\n",
      "6    1007\n",
      "7    1008\n",
      "Name: empno, dtype: int64\n",
      "0     ravi\n",
      "1     ramu\n",
      "2     raju\n",
      "3     hari\n",
      "4     giri\n",
      "5     suri\n",
      "6    raghu\n",
      "7    kumar\n",
      "Name: ename, dtype: object\n",
      "0        dev\n",
      "1     tester\n",
      "2        dev\n",
      "3     devops\n",
      "4    manager\n",
      "5        dev\n",
      "6     tester\n",
      "7        dev\n",
      "Name: job, dtype: object\n"
     ]
    }
   ],
   "source": [
    "df4=pd.DataFrame({\n",
    "    'empno':[1001,1002,1003,1004,1005,1006,1007,1008],\n",
    "    'ename':['ravi','ramu','raju','hari','giri','suri','raghu','kumar'],\n",
    "    'job':['dev','tester','dev','devops','manager','dev','tester','dev']\n",
    "})\n",
    "print(df4)\n",
    "print(df4.iloc[1,2])\n",
    "print(df4.iloc[3,2])\n",
    "print(df4.iloc[7,1])\n",
    "print(df4.iloc[0:5])\n",
    "print(df4.iloc[::-1])\n",
    "print(df4.iloc[:,0])#complete record,1st column\n",
    "print(df4.iloc[:,1])\n",
    "print(df4.iloc[:,2])\n"
   ]
  },
  {
   "cell_type": "code",
   "execution_count": 11,
   "id": "dc05262d-68f8-4936-bb61-c8713252c436",
   "metadata": {},
   "outputs": [
    {
     "name": "stdout",
     "output_type": "stream",
     "text": [
      "   empno  ename      job   sal\n",
      "0   1001   ravi      dev  2443\n",
      "1   1002   ramu   tester  7922\n",
      "2   1003   raju      dev  3579\n",
      "3   1004   hari   devops  5793\n",
      "4   1005   giri  manager  7942\n",
      "5   1006   suri      dev  8327\n",
      "6   1007  raghu   tester  5932\n",
      "7   1008  kumar      dev  4792\n",
      "  ename   sal\n",
      "0  ravi  2443\n",
      "1  ramu  7922\n",
      "2  raju  3579\n"
     ]
    },
    {
     "ename": "TypeError",
     "evalue": "cannot do positional indexing on Index with these indexers [sal] of type str",
     "output_type": "error",
     "traceback": [
      "\u001b[1;31m---------------------------------------------------------------------------\u001b[0m",
      "\u001b[1;31mTypeError\u001b[0m                                 Traceback (most recent call last)",
      "Cell \u001b[1;32mIn[11], line 9\u001b[0m\n\u001b[0;32m      7\u001b[0m \u001b[38;5;28mprint\u001b[39m(df5)\n\u001b[0;32m      8\u001b[0m \u001b[38;5;28mprint\u001b[39m(df5\u001b[38;5;241m.\u001b[39miloc[[\u001b[38;5;241m0\u001b[39m,\u001b[38;5;241m1\u001b[39m,\u001b[38;5;241m2\u001b[39m],[\u001b[38;5;241m1\u001b[39m,\u001b[38;5;241m3\u001b[39m]])\n\u001b[1;32m----> 9\u001b[0m \u001b[38;5;28mprint\u001b[39m(df5\u001b[38;5;241m.\u001b[39miloc[\u001b[38;5;241m0\u001b[39m,:\u001b[38;5;124m'\u001b[39m\u001b[38;5;124msal\u001b[39m\u001b[38;5;124m'\u001b[39m])\n\u001b[0;32m     10\u001b[0m \u001b[38;5;28mprint\u001b[39m(df5\u001b[38;5;241m.\u001b[39miloc[\u001b[38;5;241m3\u001b[39m,[\u001b[38;5;124m'\u001b[39m\u001b[38;5;124mename\u001b[39m\u001b[38;5;124m'\u001b[39m,\u001b[38;5;124m'\u001b[39m\u001b[38;5;124msal\u001b[39m\u001b[38;5;124m'\u001b[39m]])\n",
      "File \u001b[1;32m~\\anaconda3\\Lib\\site-packages\\pandas\\core\\indexing.py:1184\u001b[0m, in \u001b[0;36m_LocationIndexer.__getitem__\u001b[1;34m(self, key)\u001b[0m\n\u001b[0;32m   1182\u001b[0m     \u001b[38;5;28;01mif\u001b[39;00m \u001b[38;5;28mself\u001b[39m\u001b[38;5;241m.\u001b[39m_is_scalar_access(key):\n\u001b[0;32m   1183\u001b[0m         \u001b[38;5;28;01mreturn\u001b[39;00m \u001b[38;5;28mself\u001b[39m\u001b[38;5;241m.\u001b[39mobj\u001b[38;5;241m.\u001b[39m_get_value(\u001b[38;5;241m*\u001b[39mkey, takeable\u001b[38;5;241m=\u001b[39m\u001b[38;5;28mself\u001b[39m\u001b[38;5;241m.\u001b[39m_takeable)\n\u001b[1;32m-> 1184\u001b[0m     \u001b[38;5;28;01mreturn\u001b[39;00m \u001b[38;5;28mself\u001b[39m\u001b[38;5;241m.\u001b[39m_getitem_tuple(key)\n\u001b[0;32m   1185\u001b[0m \u001b[38;5;28;01melse\u001b[39;00m:\n\u001b[0;32m   1186\u001b[0m     \u001b[38;5;66;03m# we by definition only have the 0th axis\u001b[39;00m\n\u001b[0;32m   1187\u001b[0m     axis \u001b[38;5;241m=\u001b[39m \u001b[38;5;28mself\u001b[39m\u001b[38;5;241m.\u001b[39maxis \u001b[38;5;129;01mor\u001b[39;00m \u001b[38;5;241m0\u001b[39m\n",
      "File \u001b[1;32m~\\anaconda3\\Lib\\site-packages\\pandas\\core\\indexing.py:1692\u001b[0m, in \u001b[0;36m_iLocIndexer._getitem_tuple\u001b[1;34m(self, tup)\u001b[0m\n\u001b[0;32m   1690\u001b[0m tup \u001b[38;5;241m=\u001b[39m \u001b[38;5;28mself\u001b[39m\u001b[38;5;241m.\u001b[39m_validate_tuple_indexer(tup)\n\u001b[0;32m   1691\u001b[0m \u001b[38;5;28;01mwith\u001b[39;00m suppress(IndexingError):\n\u001b[1;32m-> 1692\u001b[0m     \u001b[38;5;28;01mreturn\u001b[39;00m \u001b[38;5;28mself\u001b[39m\u001b[38;5;241m.\u001b[39m_getitem_lowerdim(tup)\n\u001b[0;32m   1694\u001b[0m \u001b[38;5;28;01mreturn\u001b[39;00m \u001b[38;5;28mself\u001b[39m\u001b[38;5;241m.\u001b[39m_getitem_tuple_same_dim(tup)\n",
      "File \u001b[1;32m~\\anaconda3\\Lib\\site-packages\\pandas\\core\\indexing.py:1089\u001b[0m, in \u001b[0;36m_LocationIndexer._getitem_lowerdim\u001b[1;34m(self, tup)\u001b[0m\n\u001b[0;32m   1087\u001b[0m             \u001b[38;5;28;01mreturn\u001b[39;00m section\n\u001b[0;32m   1088\u001b[0m         \u001b[38;5;66;03m# This is an elided recursive call to iloc/loc\u001b[39;00m\n\u001b[1;32m-> 1089\u001b[0m         \u001b[38;5;28;01mreturn\u001b[39;00m \u001b[38;5;28mgetattr\u001b[39m(section, \u001b[38;5;28mself\u001b[39m\u001b[38;5;241m.\u001b[39mname)[new_key]\n\u001b[0;32m   1091\u001b[0m \u001b[38;5;28;01mraise\u001b[39;00m IndexingError(\u001b[38;5;124m\"\u001b[39m\u001b[38;5;124mnot applicable\u001b[39m\u001b[38;5;124m\"\u001b[39m)\n",
      "File \u001b[1;32m~\\anaconda3\\Lib\\site-packages\\pandas\\core\\indexing.py:1191\u001b[0m, in \u001b[0;36m_LocationIndexer.__getitem__\u001b[1;34m(self, key)\u001b[0m\n\u001b[0;32m   1189\u001b[0m maybe_callable \u001b[38;5;241m=\u001b[39m com\u001b[38;5;241m.\u001b[39mapply_if_callable(key, \u001b[38;5;28mself\u001b[39m\u001b[38;5;241m.\u001b[39mobj)\n\u001b[0;32m   1190\u001b[0m maybe_callable \u001b[38;5;241m=\u001b[39m \u001b[38;5;28mself\u001b[39m\u001b[38;5;241m.\u001b[39m_check_deprecated_callable_usage(key, maybe_callable)\n\u001b[1;32m-> 1191\u001b[0m \u001b[38;5;28;01mreturn\u001b[39;00m \u001b[38;5;28mself\u001b[39m\u001b[38;5;241m.\u001b[39m_getitem_axis(maybe_callable, axis\u001b[38;5;241m=\u001b[39maxis)\n",
      "File \u001b[1;32m~\\anaconda3\\Lib\\site-packages\\pandas\\core\\indexing.py:1729\u001b[0m, in \u001b[0;36m_iLocIndexer._getitem_axis\u001b[1;34m(self, key, axis)\u001b[0m\n\u001b[0;32m   1723\u001b[0m     \u001b[38;5;28;01mraise\u001b[39;00m \u001b[38;5;167;01mIndexError\u001b[39;00m(\n\u001b[0;32m   1724\u001b[0m         \u001b[38;5;124m\"\u001b[39m\u001b[38;5;124mDataFrame indexer is not allowed for .iloc\u001b[39m\u001b[38;5;130;01m\\n\u001b[39;00m\u001b[38;5;124m\"\u001b[39m\n\u001b[0;32m   1725\u001b[0m         \u001b[38;5;124m\"\u001b[39m\u001b[38;5;124mConsider using .loc for automatic alignment.\u001b[39m\u001b[38;5;124m\"\u001b[39m\n\u001b[0;32m   1726\u001b[0m     )\n\u001b[0;32m   1728\u001b[0m \u001b[38;5;28;01mif\u001b[39;00m \u001b[38;5;28misinstance\u001b[39m(key, \u001b[38;5;28mslice\u001b[39m):\n\u001b[1;32m-> 1729\u001b[0m     \u001b[38;5;28;01mreturn\u001b[39;00m \u001b[38;5;28mself\u001b[39m\u001b[38;5;241m.\u001b[39m_get_slice_axis(key, axis\u001b[38;5;241m=\u001b[39maxis)\n\u001b[0;32m   1731\u001b[0m \u001b[38;5;28;01mif\u001b[39;00m is_iterator(key):\n\u001b[0;32m   1732\u001b[0m     key \u001b[38;5;241m=\u001b[39m \u001b[38;5;28mlist\u001b[39m(key)\n",
      "File \u001b[1;32m~\\anaconda3\\Lib\\site-packages\\pandas\\core\\indexing.py:1764\u001b[0m, in \u001b[0;36m_iLocIndexer._get_slice_axis\u001b[1;34m(self, slice_obj, axis)\u001b[0m\n\u001b[0;32m   1761\u001b[0m     \u001b[38;5;28;01mreturn\u001b[39;00m obj\u001b[38;5;241m.\u001b[39mcopy(deep\u001b[38;5;241m=\u001b[39m\u001b[38;5;28;01mFalse\u001b[39;00m)\n\u001b[0;32m   1763\u001b[0m labels \u001b[38;5;241m=\u001b[39m obj\u001b[38;5;241m.\u001b[39m_get_axis(axis)\n\u001b[1;32m-> 1764\u001b[0m labels\u001b[38;5;241m.\u001b[39m_validate_positional_slice(slice_obj)\n\u001b[0;32m   1765\u001b[0m \u001b[38;5;28;01mreturn\u001b[39;00m \u001b[38;5;28mself\u001b[39m\u001b[38;5;241m.\u001b[39mobj\u001b[38;5;241m.\u001b[39m_slice(slice_obj, axis\u001b[38;5;241m=\u001b[39maxis)\n",
      "File \u001b[1;32m~\\anaconda3\\Lib\\site-packages\\pandas\\core\\indexes\\base.py:4198\u001b[0m, in \u001b[0;36mIndex._validate_positional_slice\u001b[1;34m(self, key)\u001b[0m\n\u001b[0;32m   4193\u001b[0m \u001b[38;5;250m\u001b[39m\u001b[38;5;124;03m\"\"\"\u001b[39;00m\n\u001b[0;32m   4194\u001b[0m \u001b[38;5;124;03mFor positional indexing, a slice must have either int or None\u001b[39;00m\n\u001b[0;32m   4195\u001b[0m \u001b[38;5;124;03mfor each of start, stop, and step.\u001b[39;00m\n\u001b[0;32m   4196\u001b[0m \u001b[38;5;124;03m\"\"\"\u001b[39;00m\n\u001b[0;32m   4197\u001b[0m \u001b[38;5;28mself\u001b[39m\u001b[38;5;241m.\u001b[39m_validate_indexer(\u001b[38;5;124m\"\u001b[39m\u001b[38;5;124mpositional\u001b[39m\u001b[38;5;124m\"\u001b[39m, key\u001b[38;5;241m.\u001b[39mstart, \u001b[38;5;124m\"\u001b[39m\u001b[38;5;124miloc\u001b[39m\u001b[38;5;124m\"\u001b[39m)\n\u001b[1;32m-> 4198\u001b[0m \u001b[38;5;28mself\u001b[39m\u001b[38;5;241m.\u001b[39m_validate_indexer(\u001b[38;5;124m\"\u001b[39m\u001b[38;5;124mpositional\u001b[39m\u001b[38;5;124m\"\u001b[39m, key\u001b[38;5;241m.\u001b[39mstop, \u001b[38;5;124m\"\u001b[39m\u001b[38;5;124miloc\u001b[39m\u001b[38;5;124m\"\u001b[39m)\n\u001b[0;32m   4199\u001b[0m \u001b[38;5;28mself\u001b[39m\u001b[38;5;241m.\u001b[39m_validate_indexer(\u001b[38;5;124m\"\u001b[39m\u001b[38;5;124mpositional\u001b[39m\u001b[38;5;124m\"\u001b[39m, key\u001b[38;5;241m.\u001b[39mstep, \u001b[38;5;124m\"\u001b[39m\u001b[38;5;124miloc\u001b[39m\u001b[38;5;124m\"\u001b[39m)\n",
      "File \u001b[1;32m~\\anaconda3\\Lib\\site-packages\\pandas\\core\\indexes\\base.py:6697\u001b[0m, in \u001b[0;36mIndex._validate_indexer\u001b[1;34m(self, form, key, kind)\u001b[0m\n\u001b[0;32m   6692\u001b[0m \u001b[38;5;250m\u001b[39m\u001b[38;5;124;03m\"\"\"\u001b[39;00m\n\u001b[0;32m   6693\u001b[0m \u001b[38;5;124;03mIf we are positional indexer, validate that we have appropriate\u001b[39;00m\n\u001b[0;32m   6694\u001b[0m \u001b[38;5;124;03mtyped bounds must be an integer.\u001b[39;00m\n\u001b[0;32m   6695\u001b[0m \u001b[38;5;124;03m\"\"\"\u001b[39;00m\n\u001b[0;32m   6696\u001b[0m \u001b[38;5;28;01mif\u001b[39;00m \u001b[38;5;129;01mnot\u001b[39;00m lib\u001b[38;5;241m.\u001b[39mis_int_or_none(key):\n\u001b[1;32m-> 6697\u001b[0m     \u001b[38;5;28mself\u001b[39m\u001b[38;5;241m.\u001b[39m_raise_invalid_indexer(form, key)\n",
      "File \u001b[1;32m~\\anaconda3\\Lib\\site-packages\\pandas\\core\\indexes\\base.py:4301\u001b[0m, in \u001b[0;36mIndex._raise_invalid_indexer\u001b[1;34m(self, form, key, reraise)\u001b[0m\n\u001b[0;32m   4299\u001b[0m \u001b[38;5;28;01mif\u001b[39;00m reraise \u001b[38;5;129;01mis\u001b[39;00m \u001b[38;5;129;01mnot\u001b[39;00m lib\u001b[38;5;241m.\u001b[39mno_default:\n\u001b[0;32m   4300\u001b[0m     \u001b[38;5;28;01mraise\u001b[39;00m \u001b[38;5;167;01mTypeError\u001b[39;00m(msg) \u001b[38;5;28;01mfrom\u001b[39;00m\u001b[38;5;250m \u001b[39m\u001b[38;5;21;01mreraise\u001b[39;00m\n\u001b[1;32m-> 4301\u001b[0m \u001b[38;5;28;01mraise\u001b[39;00m \u001b[38;5;167;01mTypeError\u001b[39;00m(msg)\n",
      "\u001b[1;31mTypeError\u001b[0m: cannot do positional indexing on Index with these indexers [sal] of type str"
     ]
    }
   ],
   "source": [
    "df5=pd.DataFrame({\n",
    "    'empno':[1001,1002,1003,1004,1005,1006,1007,1008],\n",
    "    'ename':['ravi','ramu','raju','hari','giri','suri','raghu','kumar'],\n",
    "    'job':['dev','tester','dev','devops','manager','dev','tester','dev'],\n",
    "    'sal':[2443,7922,3579,5793,7942,8327,5932,4792]\n",
    "})\n",
    "print(df5)\n",
    "print(df5.iloc[[0,1,2],[1,3]])\n",
    "print(df5.iloc[0,:'sal'])\n",
    "print(df5.iloc[3,['ename','sal']])"
   ]
  },
  {
   "cell_type": "code",
   "execution_count": null,
   "id": "3ea1a414-a38c-498d-acd8-a67bba0afab6",
   "metadata": {},
   "outputs": [],
   "source": []
  }
 ],
 "metadata": {
  "kernelspec": {
   "display_name": "Python [conda env:base] *",
   "language": "python",
   "name": "conda-base-py"
  },
  "language_info": {
   "codemirror_mode": {
    "name": "ipython",
    "version": 3
   },
   "file_extension": ".py",
   "mimetype": "text/x-python",
   "name": "python",
   "nbconvert_exporter": "python",
   "pygments_lexer": "ipython3",
   "version": "3.13.5"
  }
 },
 "nbformat": 4,
 "nbformat_minor": 5
}
