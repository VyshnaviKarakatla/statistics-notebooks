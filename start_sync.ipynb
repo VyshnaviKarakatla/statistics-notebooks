{
 "cells": [
  {
   "cell_type": "code",
   "execution_count": 5,
   "id": "8c0d922a-8d3d-4ec6-bc61-7f7749f7944c",
   "metadata": {},
   "outputs": [
    {
     "name": "stdout",
     "output_type": "stream",
     "text": [
      "🔁 auto_sync started in a NEW terminal window.\n"
     ]
    }
   ],
   "source": [
    "import subprocess, sys, os\n",
    "\n",
    "cwd = r\"C:\\Users\\vyshn\\Statistics\"\n",
    "python = sys.executable\n",
    "cmd = f'start \"\" \"{python}\" -u \"{os.path.join(cwd, \"auto_sync.py\")}\"'\n",
    "subprocess.Popen(cmd, shell=True, cwd=cwd)\n",
    "print(\"🔁 auto_sync started in a NEW terminal window.\")\n"
   ]
  },
  {
   "cell_type": "code",
   "execution_count": null,
   "id": "1ff269a4-7c34-4ffa-9e3a-5c281cf62f1c",
   "metadata": {},
   "outputs": [],
   "source": []
  }
 ],
 "metadata": {
  "kernelspec": {
   "display_name": "Python [conda env:base] *",
   "language": "python",
   "name": "conda-base-py"
  },
  "language_info": {
   "codemirror_mode": {
    "name": "ipython",
    "version": 3
   },
   "file_extension": ".py",
   "mimetype": "text/x-python",
   "name": "python",
   "nbconvert_exporter": "python",
   "pygments_lexer": "ipython3",
   "version": "3.13.5"
  }
 },
 "nbformat": 4,
 "nbformat_minor": 5
}
