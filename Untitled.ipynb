{
 "cells": [
  {
   "cell_type": "code",
   "execution_count": null,
   "id": "370dc574-4a0b-4858-b094-2363ab1242da",
   "metadata": {},
   "outputs": [],
   "source": []
  }
 ],
 "metadata": {
  "kernelspec": {
   "display_name": "",
   "name": ""
  },
  "language_info": {
   "name": ""
  }
 },
 "nbformat": 4,
 "nbformat_minor": 5
}
