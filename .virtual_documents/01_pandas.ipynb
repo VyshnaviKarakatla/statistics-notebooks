import pandas as pd


print('Series with numbers')
ser1=pd.Series([10,20,30,40,50])
print(ser1)


print('Series with strings')
ser2=pd.Series(['python','AWS','java'])
print(ser2)


print("Slicing Series")
print(ser1[1:4])
print(ser1[::-1])
print(ser2.iloc[-1])
print(ser2.head())
print(ser2.tail())
print(ser2.head(2))
print(ser2.tail(2))


print('DataFrames with numbers')
df1=pd.DataFrame({1,2,3,4,5})
print(df1)


print('DataFrames with strings')
df2=pd.DataFrame({'id':['101','102','103','104','105'],'course':['java','AWS','python','cloud','html']})
print(df2)
print(df2['id'])
print(df2['id'][1:3])
print(df2['course'])
print(df2['course'][1:4])


print("Slicing Series")
print(df1[1:3])
print(df1[::-1])
print(df1.iloc[-3])
print(df2.head())
print(df2.tail())
print(df2.head(2))
print(df2.tail(2))


df3=pd.DataFrame({'sid':['101','102','103','104','105','106','107','108','109','110'],
      'sname':['ramu','ravi','kiran','raju','karthik','kumar',
               'balu','srinu','kishore','john']
      })
print(df3)
print(df3.iloc[1])
print(df3.iloc[0,0])
print(df3.iloc[5,1])


df4=pd.DataFrame({
    'empno':[1001,1002,1003,1004,1005,1006,1007,1008],
    'ename':['ravi','ramu','raju','hari','giri','suri','raghu','kumar'],
    'job':['dev','tester','dev','devops','manager','dev','tester','dev']
})
print(df4)
print(df4.iloc[1,2])
print(df4.iloc[3,2])
print(df4.iloc[7,1])
print(df4.iloc[0:5])
print(df4.iloc[::-1])
print(df4.iloc[:,0])#complete record,1st column
print(df4.iloc[:,1])
print(df4.iloc[:,2])



df5=pd.DataFrame({
    'empno':[1001,1002,1003,1004,1005,1006,1007,1008],
    'ename':['ravi','ramu','raju','hari','giri','suri','raghu','kumar'],
    'job':['dev','tester','dev','devops','manager','dev','tester','dev'],
    'sal':[2443,7922,3579,5793,7942,8327,5932,4792]
})
print(df5)
print(df5.iloc[[0,1,2],[1,3]])



df5.loc[1,'sal']


df5.loc[3,['ename','sal']]


df5=pd.DataFrame({
    'empno':[1001,1002,1003,1004,1005,1006,1007,1008],
    'ename':['ravi','ramu','raju','hari','giri','suri','raghu','kumar'],
    'job':['dev','tester','dev','devops','manager','dev','tester','dev'], 
    'sal':[2443,7922,3579,5793,7942,8327,5932,4792],
    'deptno':[10,20,30,40,26,47,89,46]
})
df5


df5.iloc[::-1]


df5.iloc[2:9]


df5.loc[2,]


df5.loc[[2],['empno','ename','job','sal','deptno']]


df5


df5.index[-1]


df5.loc[[df5.index[-1]],'sal']


#get all employees who are developers
df5[df5['job']=='dev']


#get all employees whose salary more than 5000
df5[df5['sal']>=5000]


import pandas as pd 
df5=pd.DataFrame({
    'empno':[1001,1002,1003,1004,1005,1006,1007,1008],
    'ename':['ravi','ramu','raju','hari','giri','suri','raghu','kumar'],
    'job':['dev','tester','dev','devops','manager','dev','tester','dev'], 
    'sal':[2443,7922,3579,5793,7942,8327,5932,4792],
    'deptno':[10,20,30,40,26,47,89,46]
})
df5


#get all employee details based on name given
name_given=input("Enter employee name")
df5[df5['ename']==name_given]


df5[df5['job']=='dev']


#get all developers information whose sal is more than 5000
df5[(df5['job']=='dev') | (df5['job']=='tester')]


#aggregate functions
df5['sal']


df5['sal'].max()


df5['sal'].min()






